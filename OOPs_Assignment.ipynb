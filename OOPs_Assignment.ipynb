{
 "cells": [
  {
   "cell_type": "markdown",
   "id": "7c939778-019b-4913-a22a-9f8aa971103d",
   "metadata": {},
   "source": [
    "## Q1. Which function is used to open a file? What are the different modes of opening a file? Explain each mode of file opening.\n"
   ]
  },
  {
   "cell_type": "markdown",
   "id": "5e96cd4c-1204-466e-bca9-26ff0fe2406d",
   "metadata": {},
   "source": [
    "#### 1)In most programming languages, including Python, the function used to open a file is typically called open().\n",
    "####   open(\"filename\", \"r\") = It allow only reading from the file. If no file then give error. File pointer at the beginning\n",
    "####   open(\"filename\", \"w\") = It opens the file for writing. If file doesn't exist it create new one. File pointer at the beginning, include file to zero length\n",
    "####  open(\"filename\", \"a\") = It opens the file for writing, but append the data to the end of the file. File pointer at the end\n",
    "####   open(\"filename\", \"r+\") = It allows both reading and writing, pointer at the beginning\n",
    "####   open(\"filename\", \"w+\") = It allows both reading and writing, pointer at the beginning, include file to zero length\n",
    "####   open(\"filename\", \"a+\") = It allows both reading and append, but append the data to the end of the file. File pointer at the end"
   ]
  },
  {
   "cell_type": "markdown",
   "id": "9db3211c-1ccb-474c-af67-721929a67383",
   "metadata": {},
   "source": [
    "## Q2. Why close() function is used? Why is it important to close a file?"
   ]
  },
  {
   "cell_type": "markdown",
   "id": "177d2abe-92a2-4de0-9550-4dc8d74eb54c",
   "metadata": {},
   "source": [
    "#### 2) The close() function in programming languages like Python is used to close an open file.  It's essential to close files after you've finished working with them for several reasons:\n",
    "####  File corruption, data integrity, consistency etc."
   ]
  },
  {
   "cell_type": "markdown",
   "id": "dac17f2c-9dd0-410e-9813-90174fc4ee7e",
   "metadata": {},
   "source": [
    "### 3)"
   ]
  },
  {
   "cell_type": "code",
   "execution_count": 17,
   "id": "4c0353fe-4f62-4e70-b7b0-32cc1b70be59",
   "metadata": {},
   "outputs": [
    {
     "name": "stdout",
     "output_type": "stream",
     "text": [
      "Content written to the file successfully.\n",
      "Content of the file: I want to become a Data Scientist\n",
      "After I complete course I will gain some knowledge\n",
      "\n"
     ]
    }
   ],
   "source": [
    "file_name = \"data_scientist.txt\"\n",
    "try:\n",
    "    with open(file_name, \"w\") as file:\n",
    "        file.write(\"I want to become a Data Scientist\\n\") \n",
    "        file.write(\"After I complete course I will gain some knowledge\\n\")\n",
    "        print(\"Content written to the file successfully.\")\n",
    "except IOError:\n",
    "    print(\"Error occurred while writing to the file.\")\n",
    "\n",
    "try:\n",
    "    with open(file_name, \"r\") as file:\n",
    "        file_content = file.read()\n",
    "        print(\"Content of the file:\", file_content)\n",
    "except IOError:\n",
    "    print(\"Error occurred while reading the file.\")\n"
   ]
  },
  {
   "cell_type": "markdown",
   "id": "507e017b-767d-42b4-850a-6d206e597225",
   "metadata": {},
   "source": [
    "### 4) "
   ]
  },
  {
   "cell_type": "code",
   "execution_count": 18,
   "id": "3d844f08-c111-4c5b-99fb-5fcfee64fed0",
   "metadata": {},
   "outputs": [
    {
     "name": "stdout",
     "output_type": "stream",
     "text": [
      "I want to become a Data Scientist\n",
      "After I complete course I will gain some knowledge\n",
      "\n"
     ]
    }
   ],
   "source": [
    "with open(\"data_scientist.txt\", \"r\") as file:\n",
    "    content = file.read()\n",
    "    print(content)\n",
    "# It will read all content"
   ]
  },
  {
   "cell_type": "code",
   "execution_count": 19,
   "id": "58164590-606e-43f4-933c-27621b530ad5",
   "metadata": {},
   "outputs": [
    {
     "name": "stdout",
     "output_type": "stream",
     "text": [
      "First line: I want to become a Data Scientist\n",
      "\n",
      "Second line: After I complete course I will gain some knowledge\n",
      "\n"
     ]
    }
   ],
   "source": [
    "with open(\"data_scientist.txt\", \"r\") as file:\n",
    "    line1 = file.readline()\n",
    "    print(\"First line:\", line1)\n",
    "\n",
    "    line2 = file.readline()\n",
    "    print(\"Second line:\", line2)\n",
    "# It will read only a single line"
   ]
  },
  {
   "cell_type": "code",
   "execution_count": 21,
   "id": "d077e410-80b4-4c4b-bc0c-0cf3f2651a5e",
   "metadata": {},
   "outputs": [
    {
     "name": "stdout",
     "output_type": "stream",
     "text": [
      "I want to become a Data Scientist\n",
      "\n",
      "After I complete course I will gain some knowledge\n",
      "\n"
     ]
    }
   ],
   "source": [
    "with open(\"data_scientist.txt\", \"r\") as file:\n",
    "    lines = file.readlines()\n",
    "\n",
    "    for line in lines:\n",
    "        print(line)\n",
    "# It will read all lines of code"
   ]
  },
  {
   "cell_type": "markdown",
   "id": "f35a499b-80c3-4a54-b04f-afe6d0fa2c3d",
   "metadata": {},
   "source": [
    "## Q5. Explain why with statement is used with open(). What is the advantage of using with statement and open() together?"
   ]
  },
  {
   "cell_type": "markdown",
   "id": "5e1bbb9e-eee3-4821-aef4-10e996a74e36",
   "metadata": {},
   "source": [
    "#### The with statement in Python is used to ensure that resources are properly managed by automatically cleaning up the resources when the block of code under the with statement exits, whether that block of code completes successfully or an exception occurs. When used with the open() function for file handling, it ensures that the file is automatically closed when the block of code exits."
   ]
  },
  {
   "cell_type": "markdown",
   "id": "9c671e34-b906-4db8-b3a8-b28bbbaab1e6",
   "metadata": {},
   "source": [
    "#### The advantage of using the with statement with open() for file handling is primarily related to resource management and error handling"
   ]
  },
  {
   "cell_type": "markdown",
   "id": "9a56133a-ddd8-4d5c-90cc-618b10bf94da",
   "metadata": {},
   "source": [
    "## Q6. Explain the write() and writelines() functions. Give a suitable example."
   ]
  },
  {
   "cell_type": "markdown",
   "id": "400b43b8-8310-4405-a853-a37f4aeadaf9",
   "metadata": {},
   "source": [
    "#### The write() function is used to write a string to a file. It takes a single argument, which is the string to be written to the file."
   ]
  },
  {
   "cell_type": "code",
   "execution_count": 22,
   "id": "ef3cdd86-f382-429e-981d-275f81c451a6",
   "metadata": {},
   "outputs": [],
   "source": [
    "with open(\"data_scientist.txt\", \"w\") as file:\n",
    "    file.write(\"Hello, world!\\n\")"
   ]
  },
  {
   "cell_type": "code",
   "execution_count": null,
   "id": "69f3e977-2472-4f65-abb2-184c91e05b09",
   "metadata": {},
   "outputs": [],
   "source": []
  }
 ],
 "metadata": {
  "kernelspec": {
   "display_name": "Python 3 (ipykernel)",
   "language": "python",
   "name": "python3"
  },
  "language_info": {
   "codemirror_mode": {
    "name": "ipython",
    "version": 3
   },
   "file_extension": ".py",
   "mimetype": "text/x-python",
   "name": "python",
   "nbconvert_exporter": "python",
   "pygments_lexer": "ipython3",
   "version": "3.10.8"
  }
 },
 "nbformat": 4,
 "nbformat_minor": 5
}
