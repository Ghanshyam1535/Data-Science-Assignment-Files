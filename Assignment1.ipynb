{
 "cells": [
  {
   "cell_type": "markdown",
   "id": "ce149905-acb0-4c7e-861e-c65b1548e0f1",
   "metadata": {},
   "source": [
    "## Assignment 1"
   ]
  },
  {
   "cell_type": "markdown",
   "id": "f62e2609-4960-4c31-8925-5fdb7773bcbf",
   "metadata": {},
   "source": [
    "### 1) Tuples are indexed, they are always in ordered and they are also immutable because, we can not change the value of assigned position"
   ]
  },
  {
   "cell_type": "markdown",
   "id": "e3edb04b-893e-4951-bf66-cdb8abf08077",
   "metadata": {},
   "source": [
    "### 2)There are only two methods for Tuples .index() and .count()"
   ]
  },
  {
   "cell_type": "code",
   "execution_count": 4,
   "id": "3a1a7bec-a10b-435b-9ffd-c8870375d84e",
   "metadata": {},
   "outputs": [
    {
     "data": {
      "text/plain": [
       "4"
      ]
     },
     "execution_count": 4,
     "metadata": {},
     "output_type": "execute_result"
    }
   ],
   "source": [
    "t1 = (1,2,3,4,1,1,1)\n",
    "t1.count(1)\n"
   ]
  },
  {
   "cell_type": "code",
   "execution_count": 5,
   "id": "dc6de511-2f70-4c44-9e6e-3cfd7e41b875",
   "metadata": {},
   "outputs": [
    {
     "data": {
      "text/plain": [
       "2"
      ]
     },
     "execution_count": 5,
     "metadata": {},
     "output_type": "execute_result"
    }
   ],
   "source": [
    "t1.index(3)\n"
   ]
  },
  {
   "cell_type": "markdown",
   "id": "3c413e92-c41a-4e5b-9998-9599b06dbea5",
   "metadata": {},
   "source": [
    "### - .count() helps to tell how many times that elements is present and .index() helps to tell at which position element  is present\n"
   ]
  },
  {
   "cell_type": "markdown",
   "id": "cd17072f-c08d-4b4f-b9b6-28769d802027",
   "metadata": {},
   "source": [
    "### -They are immutable that's why, like we cannot sort,replace etc so, only two methods are there"
   ]
  },
  {
   "cell_type": "markdown",
   "id": "06f19406-8240-4308-a24f-1502b90222fb",
   "metadata": {},
   "source": [
    "### 3) Sets"
   ]
  },
  {
   "cell_type": "code",
   "execution_count": 7,
   "id": "a3bedadf-aac2-4f72-b564-acc2fd8b0abe",
   "metadata": {},
   "outputs": [],
   "source": [
    "List = {1, 1, 1, 2, 1, 3, 1, 4, 2, 1, 2, 2, 2, 3, 2, 4, 3, 1, 3, 2, 3, 3, 3, 4, 4, 1, 4, 2, 4, 3, 4, 4}"
   ]
  },
  {
   "cell_type": "code",
   "execution_count": 9,
   "id": "06b82f15-1bb4-429c-9108-2fe9dae0ebc4",
   "metadata": {},
   "outputs": [
    {
     "name": "stdout",
     "output_type": "stream",
     "text": [
      "{1, 2, 3, 4}\n"
     ]
    }
   ],
   "source": [
    "print(List)"
   ]
  },
  {
   "cell_type": "markdown",
   "id": "b16710d5-e8f3-4d4c-a5fe-fdb09af3258b",
   "metadata": {
    "tags": []
   },
   "source": [
    "### 4) union() help to give alll elements in set, not repeated once\n",
    "###    update() help to join to sets"
   ]
  },
  {
   "cell_type": "code",
   "execution_count": 10,
   "id": "fba9b6b6-9921-4a9d-a1a9-8ec0e053c5e5",
   "metadata": {},
   "outputs": [
    {
     "data": {
      "text/plain": [
       "{1, 2, 3, 4, 5, 6, 7, 8}"
      ]
     },
     "execution_count": 10,
     "metadata": {},
     "output_type": "execute_result"
    }
   ],
   "source": [
    "set = {1,2,3,4,5,6,7,8}\n",
    "set.union()"
   ]
  },
  {
   "cell_type": "code",
   "execution_count": 14,
   "id": "7ba6899d-b1e3-465c-ac88-3d0748967fcd",
   "metadata": {},
   "outputs": [],
   "source": [
    "set1 = {9,10}"
   ]
  },
  {
   "cell_type": "code",
   "execution_count": 15,
   "id": "d10fd6fc-6bb7-451a-b7e1-3e2da44441e6",
   "metadata": {},
   "outputs": [],
   "source": [
    "set.update(set1)"
   ]
  },
  {
   "cell_type": "code",
   "execution_count": 16,
   "id": "4d9b5b6c-ed13-4556-9a99-305c13bf5744",
   "metadata": {},
   "outputs": [
    {
     "data": {
      "text/plain": [
       "{1, 2, 3, 4, 5, 6, 7, 8, 9, 10}"
      ]
     },
     "execution_count": 16,
     "metadata": {},
     "output_type": "execute_result"
    }
   ],
   "source": [
    "set"
   ]
  },
  {
   "cell_type": "markdown",
   "id": "a92d9e77-d10b-42fe-a372-789b25960d4b",
   "metadata": {},
   "source": [
    "### 5)Dictionary is collection of keys and there values can be sset, tuples, string, etc and you can see the collection of dictionary is always ordered"
   ]
  },
  {
   "cell_type": "code",
   "execution_count": 1,
   "id": "86f6b215-adb2-4295-994f-c6a6b91cdcfd",
   "metadata": {},
   "outputs": [],
   "source": [
    "d = {\"Key\" : (1,2,3), \"Key2\" : {1,2,3}}"
   ]
  },
  {
   "cell_type": "code",
   "execution_count": 2,
   "id": "71ed1d37-fbb6-42fb-aa08-d1c7d9318fa0",
   "metadata": {},
   "outputs": [
    {
     "data": {
      "text/plain": [
       "dict"
      ]
     },
     "execution_count": 2,
     "metadata": {},
     "output_type": "execute_result"
    }
   ],
   "source": [
    "type(d)"
   ]
  },
  {
   "cell_type": "markdown",
   "id": "e5f9bceb-f9e1-486d-928c-37063d35cb65",
   "metadata": {},
   "source": [
    "### 6)  Yes, we can create nested dictionary"
   ]
  },
  {
   "cell_type": "code",
   "execution_count": 4,
   "id": "e48beaea-e0f9-43c0-8ccc-3aebd233e184",
   "metadata": {},
   "outputs": [],
   "source": [
    "d = {\"key\" : {\"value\" : 1,\"value2\" : 2} }"
   ]
  },
  {
   "cell_type": "code",
   "execution_count": 7,
   "id": "6820ff3d-2eec-44fd-9d14-65555b573696",
   "metadata": {},
   "outputs": [
    {
     "data": {
      "text/plain": [
       "dict"
      ]
     },
     "execution_count": 7,
     "metadata": {},
     "output_type": "execute_result"
    }
   ],
   "source": [
    "type(d)"
   ]
  },
  {
   "cell_type": "markdown",
   "id": "754a305a-aeab-4458-a14d-d17811ed6b5e",
   "metadata": {},
   "source": [
    "### 7)"
   ]
  },
  {
   "cell_type": "code",
   "execution_count": 8,
   "id": "a9410205-11aa-4a65-b7b8-8c1b618c8c49",
   "metadata": {},
   "outputs": [],
   "source": [
    "dict1 = {'language' : 'Python', 'course': 'Data Science Masters'}"
   ]
  },
  {
   "cell_type": "code",
   "execution_count": 13,
   "id": "0bf9fcee-3f01-4ff2-9fd1-39e533323146",
   "metadata": {},
   "outputs": [
    {
     "data": {
      "text/plain": [
       "'Python'"
      ]
     },
     "execution_count": 13,
     "metadata": {},
     "output_type": "execute_result"
    }
   ],
   "source": [
    "dict1.setdefault('language')"
   ]
  },
  {
   "cell_type": "code",
   "execution_count": 43,
   "id": "dda47d3f-5584-4a00-8b92-51b3dd12dfba",
   "metadata": {},
   "outputs": [
    {
     "data": {
      "text/plain": [
       "{'language': 'Python',\n",
       " 'course': 'Data Science Masters',\n",
       " 'key': None,\n",
       " 'topics': None}"
      ]
     },
     "execution_count": 43,
     "metadata": {},
     "output_type": "execute_result"
    }
   ],
   "source": [
    "dict1"
   ]
  },
  {
   "cell_type": "code",
   "execution_count": 51,
   "id": "f94f8c5d-1d1a-4ac1-9523-793484ab79b4",
   "metadata": {},
   "outputs": [],
   "source": [
    "x = dict1.setdefault('topic1', ['Python', 'Machine Learning', 'Deep Learning'])"
   ]
  },
  {
   "cell_type": "code",
   "execution_count": 53,
   "id": "8ce9f2b8-89fb-4e0e-ba16-864985a7a27d",
   "metadata": {},
   "outputs": [],
   "source": [
    "dict1.pop('key')"
   ]
  },
  {
   "cell_type": "code",
   "execution_count": 54,
   "id": "1792d222-60d5-4440-9dee-d0bad005aaf9",
   "metadata": {},
   "outputs": [
    {
     "data": {
      "text/plain": [
       "['python']"
      ]
     },
     "execution_count": 54,
     "metadata": {},
     "output_type": "execute_result"
    }
   ],
   "source": [
    "dict1.pop('topic')"
   ]
  },
  {
   "cell_type": "code",
   "execution_count": 55,
   "id": "bd2ecc12-d8ea-4a9b-830d-e29b631c6860",
   "metadata": {},
   "outputs": [],
   "source": [
    "dict1.pop('topics')"
   ]
  },
  {
   "cell_type": "code",
   "execution_count": 56,
   "id": "52bececc-2861-4756-9654-484edbedc036",
   "metadata": {},
   "outputs": [
    {
     "data": {
      "text/plain": [
       "{'language': 'Python',\n",
       " 'course': 'Data Science Masters',\n",
       " 'topic1': ['Python', 'Machine Learning', 'Deep Learning']}"
      ]
     },
     "execution_count": 56,
     "metadata": {},
     "output_type": "execute_result"
    }
   ],
   "source": [
    "dict1"
   ]
  },
  {
   "cell_type": "markdown",
   "id": "1eb74994-f513-4520-a91a-0671867ffce0",
   "metadata": {},
   "source": [
    "### 8) That are .keys(), .values() and .items()"
   ]
  },
  {
   "cell_type": "code",
   "execution_count": 57,
   "id": "ee5b4c3f-606f-46e9-90aa-c9916ef80d89",
   "metadata": {},
   "outputs": [],
   "source": [
    "dict2 = {'Sport': 'Cricket' , 'Teams': ['India', 'Australia', 'England', 'South Africa', 'Sri Lanka', 'New Zealand']}"
   ]
  },
  {
   "cell_type": "code",
   "execution_count": 58,
   "id": "1d4da86b-4b4d-45aa-a092-e94f70d765ae",
   "metadata": {},
   "outputs": [
    {
     "data": {
      "text/plain": [
       "dict_keys(['Sport', 'Teams'])"
      ]
     },
     "execution_count": 58,
     "metadata": {},
     "output_type": "execute_result"
    }
   ],
   "source": [
    "dict2.keys()"
   ]
  },
  {
   "cell_type": "code",
   "execution_count": 59,
   "id": "5d62f1ba-c0e5-47a0-b4e6-140f5cf479eb",
   "metadata": {},
   "outputs": [
    {
     "data": {
      "text/plain": [
       "dict_values(['Cricket', ['India', 'Australia', 'England', 'South Africa', 'Sri Lanka', 'New Zealand']])"
      ]
     },
     "execution_count": 59,
     "metadata": {},
     "output_type": "execute_result"
    }
   ],
   "source": [
    "dict2.values()"
   ]
  },
  {
   "cell_type": "code",
   "execution_count": 61,
   "id": "9c12b7f9-b234-4f59-8098-c3d16e6bfb9c",
   "metadata": {},
   "outputs": [
    {
     "data": {
      "text/plain": [
       "dict_items([('Sport', 'Cricket'), ('Teams', ['India', 'Australia', 'England', 'South Africa', 'Sri Lanka', 'New Zealand'])])"
      ]
     },
     "execution_count": 61,
     "metadata": {},
     "output_type": "execute_result"
    }
   ],
   "source": [
    "dict2.items()"
   ]
  },
  {
   "cell_type": "code",
   "execution_count": null,
   "id": "3454ea59-f291-4b41-b70b-67a85eec00c3",
   "metadata": {},
   "outputs": [],
   "source": []
  }
 ],
 "metadata": {
  "kernelspec": {
   "display_name": "Python 3 (ipykernel)",
   "language": "python",
   "name": "python3"
  },
  "language_info": {
   "codemirror_mode": {
    "name": "ipython",
    "version": 3
   },
   "file_extension": ".py",
   "mimetype": "text/x-python",
   "name": "python",
   "nbconvert_exporter": "python",
   "pygments_lexer": "ipython3",
   "version": "3.10.8"
  }
 },
 "nbformat": 4,
 "nbformat_minor": 5
}
