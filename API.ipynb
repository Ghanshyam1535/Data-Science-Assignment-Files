{
 "cells": [
  {
   "cell_type": "markdown",
   "id": "9197a249-6bbb-470c-8d00-d1ba676ef977",
   "metadata": {},
   "source": [
    "### 1)"
   ]
  },
  {
   "cell_type": "markdown",
   "id": "11a310bf-30a1-4126-b03a-b72ca8cad1c8",
   "metadata": {},
   "source": [
    "An API (Application Programming Interface) is a set of rules and protocols for building and interacting with software applications. APIs allow different software systems to communicate with each other. They define the methods and data formats that developers should use to perform tasks such as retrieving data or interacting with external software components or services.\n",
    "EX: Goggle API"
   ]
  },
  {
   "cell_type": "markdown",
   "id": "132034a7-f5d4-4575-bccc-f7e721ac8265",
   "metadata": {},
   "source": [
    "### 2)"
   ]
  },
  {
   "cell_type": "markdown",
   "id": "39944f60-376b-4367-a674-795ae8043164",
   "metadata": {},
   "source": [
    "## Advantage\n",
    "### 1) Efficiency\n",
    "### 2) Scalability:\n",
    "### 3) Security\n",
    "### 4) Flexibilty"
   ]
  },
  {
   "cell_type": "markdown",
   "id": "c8f95cc2-06fa-449e-be5e-6b7ee120cd78",
   "metadata": {},
   "source": [
    "## Disadvantage\n",
    "### 1) Cost\n",
    "### 2) Limited Control\n",
    "### 3) Data will not stored\n",
    "### 4) Dependency"
   ]
  },
  {
   "cell_type": "markdown",
   "id": "ac4f5edd-8cd2-489c-b760-77db5c123803",
   "metadata": {},
   "source": [
    "### 3)\n"
   ]
  },
  {
   "cell_type": "markdown",
   "id": "a1947997-3e7f-4798-8e5c-0748e1ac4496",
   "metadata": {},
   "source": [
    "A Web API is a specific type of API that is designed to be accessible over the internet, typically using HTTP protocols. It allows applications to interact with web services directly. Web APIs are used to expose an application's data and functionality over the web so that other applications can interact with it without needing a user interface."
   ]
  },
  {
   "cell_type": "markdown",
   "id": "500e5086-91ba-44e2-914c-e174a3068098",
   "metadata": {},
   "source": [
    "###### API: Generally refers to any interface that allows software to interact with other software, irrespective of the platform, protocol, or data format. APIs can be local to a system, involve operating systems, databases, hardware interactions, or software libraries.\n",
    "###### Web API: Specifically designed for the network and often accessible over the HTTP protocol, making it ideal for integrating web applications. It is a subset of the general concept of APIs, tailored for web services."
   ]
  },
  {
   "cell_type": "markdown",
   "id": "9e76628b-4350-4bf4-90fb-c6f6f2b01d35",
   "metadata": {},
   "source": [
    "### 4)"
   ]
  },
  {
   "cell_type": "markdown",
   "id": "0d30b221-aa96-4e32-b562-8bc60ff4074c",
   "metadata": {},
   "source": [
    "#### REST (Representational State Transfer) is an architectural style that uses existing HTTP standards. It treats data and functionality within a system as resources that can be uniquely identified using URLs. Operations on these resources are performed using standard HTTP methods such as GET, POST, PUT, DELETE.\n",
    "\n",
    "#### SOAP (Simple Object Access Protocol) is a protocol for exchanging structured information in the implementation of web services. It relies on XML (Extensible Markup Language) for its message format and usually operates over HTTP or SMTP. The protocol can be complex as it requires extensive setup and body to define its operations"
   ]
  },
  {
   "cell_type": "markdown",
   "id": "35775650-248a-45bd-bc06-d6bb9c34535c",
   "metadata": {},
   "source": [
    "#### Shortcoming of SOAP\n",
    "#### Complexity, Less Flexible and performance"
   ]
  },
  {
   "cell_type": "markdown",
   "id": "eb4c3da3-41ab-4512-965b-de0dd1c42a9a",
   "metadata": {},
   "source": [
    "### 5)"
   ]
  },
  {
   "cell_type": "code",
   "execution_count": null,
   "id": "58ca3fe9-238c-44df-ab9f-7c3f217a76d0",
   "metadata": {},
   "outputs": [],
   "source": []
  }
 ],
 "metadata": {
  "kernelspec": {
   "display_name": "Python 3 (ipykernel)",
   "language": "python",
   "name": "python3"
  },
  "language_info": {
   "codemirror_mode": {
    "name": "ipython",
    "version": 3
   },
   "file_extension": ".py",
   "mimetype": "text/x-python",
   "name": "python",
   "nbconvert_exporter": "python",
   "pygments_lexer": "ipython3",
   "version": "3.10.8"
  }
 },
 "nbformat": 4,
 "nbformat_minor": 5
}
