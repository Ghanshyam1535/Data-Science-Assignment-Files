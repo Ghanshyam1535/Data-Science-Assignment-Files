{
 "cells": [
  {
   "cell_type": "markdown",
   "id": "5ba22d72-89b6-48c6-b1a0-b20f0e6efc16",
   "metadata": {},
   "source": [
    "### 1) def\n"
   ]
  },
  {
   "cell_type": "code",
   "execution_count": 15,
   "id": "4b549735-0ec4-465d-b657-1e83da4bedf4",
   "metadata": {},
   "outputs": [],
   "source": [
    "def function1(a):\n",
    "    for i in range(1,a+1):\n",
    "        if i%2 != 0:\n",
    "            print(i)"
   ]
  },
  {
   "cell_type": "code",
   "execution_count": 16,
   "id": "7759450c-efea-49fd-914d-29bf2a406c18",
   "metadata": {},
   "outputs": [
    {
     "name": "stdout",
     "output_type": "stream",
     "text": [
      "1\n",
      "3\n",
      "5\n",
      "7\n",
      "9\n",
      "11\n",
      "13\n",
      "15\n",
      "17\n",
      "19\n",
      "21\n",
      "23\n",
      "25\n"
     ]
    }
   ],
   "source": [
    "function1(25)"
   ]
  },
  {
   "cell_type": "markdown",
   "id": "a726e017-70db-4ce7-bc7d-9f9b78083293",
   "metadata": {},
   "source": [
    "### 2) You can pass as many arguments as you want(*args)"
   ]
  },
  {
   "cell_type": "code",
   "execution_count": 2,
   "id": "e10af000-069a-4718-b692-f8afb20f579b",
   "metadata": {},
   "outputs": [
    {
     "name": "stdout",
     "output_type": "stream",
     "text": [
      "Hello\n",
      "world\n",
      "1\n",
      "2\n",
      "3\n"
     ]
    }
   ],
   "source": [
    "def print_args(*args):\n",
    "    for arg in args:\n",
    "        print(arg)\n",
    "\n",
    "print_args('Hello', 'world', 1, 2, 3)\n"
   ]
  },
  {
   "cell_type": "markdown",
   "id": "3b01ab9c-4021-495a-944f-db8e0aa9cb2c",
   "metadata": {},
   "source": [
    "###  Collects all the keyword arguments into a dictionary, which allows you to access the keys (argument names) and values easily(**kwargs)"
   ]
  },
  {
   "cell_type": "code",
   "execution_count": 5,
   "id": "feb792ad-d125-4a4e-bed8-977b47ff5587",
   "metadata": {},
   "outputs": [
    {
     "name": "stdout",
     "output_type": "stream",
     "text": [
      "name = Ghanshyam\n",
      "age = 21\n",
      "country = India\n"
     ]
    }
   ],
   "source": [
    "def print_keyword_arguments(**kwargs):\n",
    "    for key, value in kwargs.items():\n",
    "        print(f\"{key} = {value}\")\n",
    "\n",
    "print_keyword_arguments(name=\"Ghanshyam\", age=21, country=\"India\")\n"
   ]
  },
  {
   "cell_type": "markdown",
   "id": "38e42ba1-aceb-496a-bde9-ca70c131ede9",
   "metadata": {},
   "source": [
    "### 3) An iterator in Python is an object that can be iterated upon, meaning it returns data, one element at a time when next() is called on it. \n",
    "###    iter() and next() are two methods"
   ]
  },
  {
   "cell_type": "code",
   "execution_count": 12,
   "id": "b3534652-ffe3-409e-be89-48462ed9533d",
   "metadata": {},
   "outputs": [
    {
     "name": "stdout",
     "output_type": "stream",
     "text": [
      "2\n",
      "4\n",
      "6\n",
      "8\n",
      "10\n"
     ]
    }
   ],
   "source": [
    "numbers = [2, 4, 6, 8, 10, 12, 14, 16, 18, 20]\n",
    "iterator = iter(numbers)\n",
    "\n",
    "for _ in range(5):\n",
    "    print(next(iterator))\n"
   ]
  },
  {
   "cell_type": "markdown",
   "id": "00bfb982-c0c1-4e49-891b-adfe4e772033",
   "metadata": {},
   "source": [
    "### 4) Generator functions are function which returns the iterating value answer like in if we yeild them they will give next number solution also\n",
    "###    Yeild:- It is used to iterate the number like it is 1 then in next loop it will become 2"
   ]
  },
  {
   "cell_type": "code",
   "execution_count": 15,
   "id": "8aded9d4-7cce-4d44-9c74-e6db090e0afe",
   "metadata": {},
   "outputs": [
    {
     "name": "stdout",
     "output_type": "stream",
     "text": [
      "0\n",
      "2\n",
      "4\n",
      "6\n",
      "8\n"
     ]
    }
   ],
   "source": [
    "def generate(n):\n",
    "    num = 0\n",
    "    while n > 0:\n",
    "        yield num\n",
    "        num += 2\n",
    "        n -= 1\n",
    "\n",
    "for even_number in generate(5):\n",
    "    print(even_number)\n"
   ]
  },
  {
   "cell_type": "markdown",
   "id": "bd55cc18-9ef7-4d52-b63e-e0d1ab761431",
   "metadata": {},
   "source": [
    "### 5)"
   ]
  },
  {
   "cell_type": "code",
   "execution_count": null,
   "id": "b5bc6586-5831-470b-aa90-d5863882cb56",
   "metadata": {},
   "outputs": [],
   "source": [
    "def prime_numbers_generator(limit):\n",
    "    for num in range(2, limit):\n",
    "        for i in range(2, num):\n",
    "            if num % i == 0:\n",
    "                break\n",
    "        else:  # Else part of the loop, executed if the loop didn't encounter a break\n",
    "            yield num\n",
    "\n",
    "# Initialize the generator\n",
    "primes = prime_numbers_generator(1000)\n",
    "\n",
    "# Print the first 20 prime numbers using next()\n",
    "for _ in range(20):\n",
    "    print(next(primes))\n"
   ]
  }
 ],
 "metadata": {
  "kernelspec": {
   "display_name": "Python 3 (ipykernel)",
   "language": "python",
   "name": "python3"
  },
  "language_info": {
   "codemirror_mode": {
    "name": "ipython",
    "version": 3
   },
   "file_extension": ".py",
   "mimetype": "text/x-python",
   "name": "python",
   "nbconvert_exporter": "python",
   "pygments_lexer": "ipython3",
   "version": "3.10.8"
  }
 },
 "nbformat": 4,
 "nbformat_minor": 5
}
