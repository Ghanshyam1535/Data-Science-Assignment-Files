{
 "cells": [
  {
   "cell_type": "markdown",
   "id": "118174dd-cefa-4873-b1bf-1155abe849e6",
   "metadata": {},
   "source": [
    "### 1) Exception is inbuilt class in python, which help us to give error which we feel to give in particular task. Whenever error occur, exception handle it and respond to that error.\n",
    "###    Syntax error is error occur when there is typo mistake and it can be indetify easily, if having basic programming knowledge."
   ]
  },
  {
   "cell_type": "markdown",
   "id": "15400720-f2e8-4995-8028-86a0c9c0b33d",
   "metadata": {},
   "source": [
    "### 2) If an exception occurs which does not match the exception named in the except clause, it is passed on to outer try statements; if no handler is found, it is an unhandled exception and execution stops with an error message."
   ]
  },
  {
   "cell_type": "code",
   "execution_count": 1,
   "id": "aa580786-917a-4719-bc0d-9e1e3efbcd45",
   "metadata": {},
   "outputs": [
    {
     "ename": "ZeroDivisionError",
     "evalue": "division by zero",
     "output_type": "error",
     "traceback": [
      "\u001b[0;31m---------------------------------------------------------------------------\u001b[0m",
      "\u001b[0;31mZeroDivisionError\u001b[0m                         Traceback (most recent call last)",
      "Cell \u001b[0;32mIn[1], line 1\u001b[0m\n\u001b[0;32m----> 1\u001b[0m divide_numbers \u001b[38;5;241m=\u001b[39m \u001b[38;5;241;43m7\u001b[39;49m\u001b[43m \u001b[49m\u001b[38;5;241;43m/\u001b[39;49m\u001b[43m \u001b[49m\u001b[38;5;241;43m0\u001b[39;49m\n\u001b[1;32m      2\u001b[0m \u001b[38;5;28mprint\u001b[39m(divide_numbers)\n",
      "\u001b[0;31mZeroDivisionError\u001b[0m: division by zero"
     ]
    }
   ],
   "source": [
    "divide_numbers = 7 / 0\n",
    "print(divide_numbers)"
   ]
  },
  {
   "cell_type": "markdown",
   "id": "8ab7da72-8440-4eea-9b7c-c67d69c4100b",
   "metadata": {},
   "source": [
    "### 3) In Python, the try, except, else, and finally statements are used to catch and handle exceptions."
   ]
  },
  {
   "cell_type": "code",
   "execution_count": 2,
   "id": "9f79cb54-20d0-417e-87e7-999ced4a4da5",
   "metadata": {},
   "outputs": [
    {
     "name": "stdin",
     "output_type": "stream",
     "text": [
      "Enter a number:  54\n"
     ]
    },
    {
     "name": "stdout",
     "output_type": "stream",
     "text": [
      "Division successful! Result: 0.18518518518518517\n",
      "This block always executes, regardless of whether an exception occurred.\n"
     ]
    }
   ],
   "source": [
    "try:\n",
    "    x = int(input(\"Enter a number: \"))\n",
    "    result = 10 / x\n",
    "except ValueError:\n",
    "    print(\"Invalid input! Please enter a valid number.\")\n",
    "except ZeroDivisionError:\n",
    "    print(\"Cannot divide by zero!\")\n",
    "else:\n",
    "    print(\"Division successful! Result:\", result)\n",
    "finally:\n",
    "    print(\"This block always executes, regardless of whether an exception occurred.\")\n"
   ]
  },
  {
   "cell_type": "markdown",
   "id": "6508b6fc-4144-4ade-ac42-fa10b904268f",
   "metadata": {},
   "source": [
    "### 4)"
   ]
  },
  {
   "cell_type": "code",
   "execution_count": 3,
   "id": "1ba139d9-305c-4a99-9f2e-fa03871c4d01",
   "metadata": {},
   "outputs": [
    {
     "name": "stdout",
     "output_type": "stream",
     "text": [
      "Division successful! Result: 5.0\n",
      "Error: Cannot divide by zero!\n"
     ]
    }
   ],
   "source": [
    "def divide(x, y):\n",
    "    try:\n",
    "        result = x / y\n",
    "    except ZeroDivisionError:\n",
    "        print(\"Error: Cannot divide by zero!\")\n",
    "    else:\n",
    "        print(\"Division successful! Result:\", result)\n",
    "\n",
    "divide(10, 2)  # This will execute without errors\n",
    "divide(10, 0)  # This will raise a ZeroDivisionError\n",
    "\n"
   ]
  },
  {
   "cell_type": "code",
   "execution_count": 5,
   "id": "d170f501-ced4-4a16-9669-6733ac7fc6db",
   "metadata": {},
   "outputs": [
    {
     "name": "stdin",
     "output_type": "stream",
     "text": [
      "Enter a number:  44\n"
     ]
    },
    {
     "name": "stdout",
     "output_type": "stream",
     "text": [
      "Division successful! Result: 0.22727272727272727\n",
      "This block always executes, regardless of whether an exception occurred.\n"
     ]
    }
   ],
   "source": [
    "try:\n",
    "    x = int(input(\"Enter a number: \"))\n",
    "    result = 10 / x\n",
    "except ValueError:\n",
    "    print(\"Invalid input! Please enter a valid number.\")\n",
    "except ZeroDivisionError:\n",
    "    print(\"Cannot divide by zero!\")\n",
    "else:\n",
    "    print(\"Division successful! Result:\", result)\n",
    "finally:\n",
    "    print(\"This block always executes, regardless of whether an exception occurred.\")\n",
    "# No matter how many time you call this it will everytime print finally statement"
   ]
  },
  {
   "cell_type": "code",
   "execution_count": 6,
   "id": "7ace3d0e-f31b-4100-8c8e-afc1fac65b1a",
   "metadata": {},
   "outputs": [
    {
     "name": "stdout",
     "output_type": "stream",
     "text": [
      "Age cannot be negative!\n"
     ]
    }
   ],
   "source": [
    "def check_age(age):\n",
    "    if age < 0:\n",
    "        raise ValueError(\"Age cannot be negative!\")\n",
    "    elif age < 18:\n",
    "        print(\"You are a minor.\")\n",
    "    else:\n",
    "        print(\"You are an adult.\")\n",
    "\n",
    "try:\n",
    "    check_age(-5)\n",
    "except ValueError as e:\n",
    "    print(e)\n"
   ]
  },
  {
   "cell_type": "markdown",
   "id": "e72512ac-c874-4246-9adb-52201c33dc72",
   "metadata": {},
   "source": [
    "### 5)"
   ]
  },
  {
   "cell_type": "markdown",
   "id": "cfe6fab5-e704-4fd8-9cb0-69e2c0f3f708",
   "metadata": {},
   "source": [
    "### A custom exception in Python is an exception that you define yourself by creating a new class that inherits from the built-in Exception class or one of its subclasses. "
   ]
  },
  {
   "cell_type": "code",
   "execution_count": 12,
   "id": "0f997d36-1567-47d7-8edd-63c5ec258279",
   "metadata": {},
   "outputs": [
    {
     "name": "stdin",
     "output_type": "stream",
     "text": [
      "Enter a number:  0\n"
     ]
    },
    {
     "name": "stdout",
     "output_type": "stream",
     "text": [
      "Exception occurred: Invalid Age\n"
     ]
    }
   ],
   "source": [
    "class InvalidAgeException(Exception):\n",
    "    \"Raised when the input value is less than 18\"\n",
    "    pass\n",
    "number = 18\n",
    "\n",
    "try:\n",
    "    input_num = int(input(\"Enter a number: \"))\n",
    "    if input_num < number:\n",
    "        raise InvalidAgeException\n",
    "    else:\n",
    "        print(\"Eligible to Vote\")\n",
    "        \n",
    "except InvalidAgeException:\n",
    "    print(\"Exception occurred: Invalid Age\")"
   ]
  },
  {
   "cell_type": "markdown",
   "id": "9e0d603f-ec9e-4063-95ba-0138e807865d",
   "metadata": {},
   "source": [
    "### 6) "
   ]
  },
  {
   "cell_type": "code",
   "execution_count": 14,
   "id": "6eb36b6e-cf0a-4624-820d-fedb91fbacca",
   "metadata": {},
   "outputs": [
    {
     "name": "stdin",
     "output_type": "stream",
     "text": [
      "Enter a number:  11\n"
     ]
    },
    {
     "name": "stdout",
     "output_type": "stream",
     "text": [
      "\n"
     ]
    }
   ],
   "source": [
    "class InvalidAgeException(Exception):\n",
    "    \"Raised when the input value is less than 18\"\n",
    "    pass\n",
    "number = 18\n",
    "\n",
    "try:\n",
    "    input_num = int(input(\"Enter a number: \"))\n",
    "    if input_num < number:\n",
    "        raise InvalidAgeException\n",
    "    else:\n",
    "        print(\"Eligible to Vote\")\n",
    "        \n",
    "except InvalidAgeException as e:\n",
    "    print(e)"
   ]
  },
  {
   "cell_type": "code",
   "execution_count": null,
   "id": "afe09f48-e117-45b0-be35-b808903d98d9",
   "metadata": {},
   "outputs": [],
   "source": []
  }
 ],
 "metadata": {
  "kernelspec": {
   "display_name": "Python 3 (ipykernel)",
   "language": "python",
   "name": "python3"
  },
  "language_info": {
   "codemirror_mode": {
    "name": "ipython",
    "version": 3
   },
   "file_extension": ".py",
   "mimetype": "text/x-python",
   "name": "python",
   "nbconvert_exporter": "python",
   "pygments_lexer": "ipython3",
   "version": "3.10.8"
  }
 },
 "nbformat": 4,
 "nbformat_minor": 5
}
