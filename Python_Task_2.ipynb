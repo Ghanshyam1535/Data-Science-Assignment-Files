{
 "cells": [
  {
   "cell_type": "markdown",
   "id": "b3e9a170-f24b-41ee-8057-63ca9d033def",
   "metadata": {},
   "source": [
    "### 1)"
   ]
  },
  {
   "cell_type": "code",
   "execution_count": 2,
   "id": "5741f561-1012-495c-b813-79b18bb7ebc5",
   "metadata": {},
   "outputs": [
    {
     "data": {
      "text/plain": [
       "'Valid Password'"
      ]
     },
     "execution_count": 2,
     "metadata": {},
     "output_type": "execute_result"
    }
   ],
   "source": [
    "def check_password(password):\n",
    "    upper = 0\n",
    "    lower = 0\n",
    "    number = 0\n",
    "    special_char = 0\n",
    "    special_characters = \"!@#$%^&*()-+?_=,<>/\"\n",
    "    \n",
    "    if len(password) <= 10:\n",
    "        return \"Invalid Password\"\n",
    "    for char in password:\n",
    "        if char.isupper():\n",
    "            upper += 1\n",
    "        elif char.islower():\n",
    "            lower += 1\n",
    "        elif char.isdigit():\n",
    "            number += 1\n",
    "        elif char in special_characters:\n",
    "            special_char += 1\n",
    "    if (upper >= 2 and lower >= 2 and\n",
    "        number >= 1 and special_char >= 3):\n",
    "        return \"Valid Password\"\n",
    "    else:\n",
    "        return \"Invalid Password\"\n",
    "    \n",
    "pasd = 'ABcd12@#$hshs'\n",
    "check_password(pasd)\n"
   ]
  },
  {
   "cell_type": "markdown",
   "id": "6035f783-4c15-4f6f-84e8-babcf85aaecc",
   "metadata": {},
   "source": [
    "### 2)"
   ]
  },
  {
   "cell_type": "code",
   "execution_count": 13,
   "id": "59d9cc80-c0fe-4e3b-b152-79f904cb4157",
   "metadata": {},
   "outputs": [
    {
     "data": {
      "text/plain": [
       "['Apple', 'Avocado', 'Apricot']"
      ]
     },
     "execution_count": 13,
     "metadata": {},
     "output_type": "execute_result"
    }
   ],
   "source": [
    "strings = ['Apple', 'Banana', 'Avocado', 'Cherry', 'Apricot']\n",
    "start = list(filter(lambda x: x.startswith('A'), strings))\n",
    "start"
   ]
  },
  {
   "cell_type": "code",
   "execution_count": 17,
   "id": "791bfa30-bc73-42ca-adac-bdd05bafebc2",
   "metadata": {},
   "outputs": [
    {
     "data": {
      "text/plain": [
       "True"
      ]
     },
     "execution_count": 17,
     "metadata": {},
     "output_type": "execute_result"
    }
   ],
   "source": [
    "input_str = \"1234\"\n",
    "\n",
    "is_numeric = lambda x: x.isnumeric()\n",
    "result = is_numeric(input_str)\n",
    "result"
   ]
  },
  {
   "cell_type": "code",
   "execution_count": 18,
   "id": "5fb41a8c-0f9c-4332-899b-3d4a42086e3f",
   "metadata": {},
   "outputs": [
    {
     "data": {
      "text/plain": [
       "[('orange', 80), ('mango', 99), ('grapes', 1000)]"
      ]
     },
     "execution_count": 18,
     "metadata": {},
     "output_type": "execute_result"
    }
   ],
   "source": [
    "list1 = [(\"mango\",99),(\"orange\",80), (\"grapes\", 1000)]\n",
    "\n",
    "sorted_list = sorted(list1, key=lambda x: x[1])\n",
    "sorted_list"
   ]
  },
  {
   "cell_type": "code",
   "execution_count": 19,
   "id": "56bc1bd6-fb0a-482c-9c9c-91e5b185a598",
   "metadata": {},
   "outputs": [
    {
     "data": {
      "text/plain": [
       "[1, 4, 9, 16, 25, 36, 49, 64, 81, 100]"
      ]
     },
     "execution_count": 19,
     "metadata": {},
     "output_type": "execute_result"
    }
   ],
   "source": [
    "squares = [x**2 for x in range(1, 11)]\n",
    "squares\n"
   ]
  },
  {
   "cell_type": "code",
   "execution_count": 20,
   "id": "6016d07a-3a6a-43ce-bdaa-132c5ece8d1d",
   "metadata": {},
   "outputs": [
    {
     "data": {
      "text/plain": [
       "[1.0,\n",
       " 1.2599210498948732,\n",
       " 1.4422495703074083,\n",
       " 1.5874010519681994,\n",
       " 1.7099759466766968,\n",
       " 1.8171205928321397,\n",
       " 1.912931182772389,\n",
       " 2.0,\n",
       " 2.080083823051904,\n",
       " 2.154434690031884]"
      ]
     },
     "execution_count": 20,
     "metadata": {},
     "output_type": "execute_result"
    }
   ],
   "source": [
    "cube_roots = [x ** (1/3) for x in range(1, 11)]\n",
    "cube_roots"
   ]
  },
  {
   "cell_type": "code",
   "execution_count": 23,
   "id": "2db00971-5804-483a-ae61-8a93475a5b0a",
   "metadata": {},
   "outputs": [
    {
     "data": {
      "text/plain": [
       "{2, 4, 6, 8}"
      ]
     },
     "execution_count": 23,
     "metadata": {},
     "output_type": "execute_result"
    }
   ],
   "source": [
    "set1 = {1,2,3,4,5,6,7,8,9}\n",
    "is_even = set(filter(lambda x: x % 2 == 0, set1))\n",
    "is_even"
   ]
  },
  {
   "cell_type": "code",
   "execution_count": 24,
   "id": "ac2d87f9-c4a4-44be-a483-dce629dbbaae",
   "metadata": {},
   "outputs": [
    {
     "data": {
      "text/plain": [
       "[1, 3, 5, 7, 9]"
      ]
     },
     "execution_count": 24,
     "metadata": {},
     "output_type": "execute_result"
    }
   ],
   "source": [
    "given_list = [1, 2, 3, 4, 5, 6, 7, 8, 9, 10]\n",
    "odd_numbers = list(filter(lambda x: x % 2 != 0, given_list))\n",
    "odd_numbers"
   ]
  },
  {
   "cell_type": "code",
   "execution_count": null,
   "id": "f3825e2e-79c7-457f-a5de-b1bc0479d6bc",
   "metadata": {},
   "outputs": [],
   "source": [
    "integers_list = [1, 2, 3, 4, 5, 6, -1, -2, -3, -4, -5, 0]\n",
    "positive = [x for x in integers_list if x > 0]\n",
    "negative = [x for x in integers_list if x < 0]\n",
    "positivee"
   ]
  }
 ],
 "metadata": {
  "kernelspec": {
   "display_name": "Python 3 (ipykernel)",
   "language": "python",
   "name": "python3"
  },
  "language_info": {
   "codemirror_mode": {
    "name": "ipython",
    "version": 3
   },
   "file_extension": ".py",
   "mimetype": "text/x-python",
   "name": "python",
   "nbconvert_exporter": "python",
   "pygments_lexer": "ipython3",
   "version": "3.10.8"
  }
 },
 "nbformat": 4,
 "nbformat_minor": 5
}
