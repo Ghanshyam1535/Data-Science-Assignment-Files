{
 "cells": [
  {
   "cell_type": "markdown",
   "id": "70504e9c-d4b7-4909-8cab-34b73ffbb150",
   "metadata": {},
   "source": [
    "### 1) Mltithreading is the way to run all the threads in the single process not need to call all functions. It improve the performance of the program, make it responsive, easy to read. 'threading' is the module which is used"
   ]
  },
  {
   "cell_type": "markdown",
   "id": "fc30b016-f253-47cc-a2f9-73030d9c671f",
   "metadata": {},
   "source": [
    "### 2)"
   ]
  },
  {
   "cell_type": "markdown",
   "id": "2ce57180-8e9a-4d14-b611-be5274732b52",
   "metadata": {},
   "source": [
    "### activecount()\n",
    " It will print thee number of active threads which are there in current thread"
   ]
  },
  {
   "cell_type": "markdown",
   "id": "5899dc43-b23f-4705-bfb2-7d4f2e2105f1",
   "metadata": {},
   "source": [
    "### CurrentThread()\n",
    "It will return the current threaad of execution, it happens when parellel threads aare excuting at the same time"
   ]
  },
  {
   "cell_type": "markdown",
   "id": "eead4de4-4117-4488-896b-92ce28a736de",
   "metadata": {},
   "source": [
    "### enumerate()\n",
    " It returns a list containing all threads that are still alive (that is, they have been started and have not yet finished execution)."
   ]
  },
  {
   "cell_type": "markdown",
   "id": "c0938c7f-a1c3-4860-b8e2-a175a4d1a56c",
   "metadata": {},
   "source": [
    "### 3)"
   ]
  },
  {
   "cell_type": "markdown",
   "id": "a16415a0-0b49-4564-8a8a-23ee340df463",
   "metadata": {},
   "source": [
    "### run()\n",
    "The run() method is called when the thread starts, and it invokes the target function with the arguments you passed to the thread.\n",
    "\n",
    "### start()\n",
    "The start() method is used to begin the thread's activity. \n",
    "\n",
    "### join()\n",
    "In this scenario, the main thread waits for worker to finish before printing the final message.\n",
    "\n",
    "### isAlive()\n",
    "It check that still thread is executing or not"
   ]
  },
  {
   "cell_type": "markdown",
   "id": "45f93892-b367-423b-bb3a-5af6fefdc05b",
   "metadata": {},
   "source": [
    "### 4)"
   ]
  },
  {
   "cell_type": "code",
   "execution_count": 6,
   "id": "fe82e123-91cc-4ca5-a6ae-7b139a7b5b81",
   "metadata": {},
   "outputs": [
    {
     "name": "stdout",
     "output_type": "stream",
     "text": [
      "Square of 0 is 0\n",
      "Square of 1 is 1\n",
      "Square of 2 is 4\n",
      "Square of 3 is 9\n",
      "Square of 4 is 16\n",
      "Square of 5 is 25\n",
      "Square of 6 is 36\n",
      "Square of 7 is 49\n",
      "Square of 8 is 64\n",
      "Square of 9 is 81\n"
     ]
    }
   ],
   "source": [
    "import threading\n",
    "\n",
    "x = range(10)\n",
    "\n",
    "def squaring(x):\n",
    "    for i in x:\n",
    "        print(f\"Square of {i} is {i**2}\")\n",
    "    \n",
    "thread1 = threading.Thread(target=squaring, args=(x,))\n",
    "thread1.start()"
   ]
  },
  {
   "cell_type": "code",
   "execution_count": 7,
   "id": "38982a81-9ab3-47d5-894e-1bcc201e44b5",
   "metadata": {},
   "outputs": [
    {
     "name": "stdout",
     "output_type": "stream",
     "text": [
      "Square of 0 is 0\n",
      "Square of 1 is 1\n",
      "Square of 2 is 8\n",
      "Square of 3 is 27\n",
      "Square of 4 is 64\n",
      "Square of 5 is 125\n",
      "Square of 6 is 216\n",
      "Square of 7 is 343\n",
      "Square of 8 is 512\n",
      "Square of 9 is 729\n"
     ]
    }
   ],
   "source": [
    "import threading\n",
    "\n",
    "x = range(10)\n",
    "\n",
    "def cubes(x):\n",
    "    for i in x:\n",
    "        print(f\"Square of {i} is {i**3}\")\n",
    "    \n",
    "thread1 = threading.Thread(target=cubes, args=(x,))\n",
    "thread1.start()"
   ]
  },
  {
   "cell_type": "markdown",
   "id": "3b0105fb-72c0-44c4-9881-1b632eb48525",
   "metadata": {},
   "source": [
    "### 5)\n",
    "# Advantage:\n",
    "### Improved Application Responsiveness\n",
    "### Better Resource Utilization\n",
    "### Help to run program in one single process not need to call thread again and again\n",
    "\n",
    "# Disadvantage:\n",
    "### Complex desgin and structure\n",
    "### Not easy readaability and writability\n",
    "### Limited by Global Interpreter Lock (GIL) in CPython"
   ]
  },
  {
   "cell_type": "markdown",
   "id": "b69f0282-e9c9-49a7-9122-8799d3376a8e",
   "metadata": {},
   "source": [
    "### 6)"
   ]
  },
  {
   "cell_type": "markdown",
   "id": "cad68882-ffc1-49cb-93d0-8a36fcad7870",
   "metadata": {},
   "source": [
    "### A deadlock is a situation in concurrent programming where two or more processes or threads are blocked forever, waiting for each other to release resources they need."
   ]
  },
  {
   "cell_type": "code",
   "execution_count": null,
   "id": "22b208b4-50ba-406d-b506-da2953064d42",
   "metadata": {},
   "outputs": [],
   "source": []
  }
 ],
 "metadata": {
  "kernelspec": {
   "display_name": "Python 3 (ipykernel)",
   "language": "python",
   "name": "python3"
  },
  "language_info": {
   "codemirror_mode": {
    "name": "ipython",
    "version": 3
   },
   "file_extension": ".py",
   "mimetype": "text/x-python",
   "name": "python",
   "nbconvert_exporter": "python",
   "pygments_lexer": "ipython3",
   "version": "3.10.8"
  }
 },
 "nbformat": 4,
 "nbformat_minor": 5
}
