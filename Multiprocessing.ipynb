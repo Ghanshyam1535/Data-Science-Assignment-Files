{
 "cells": [
  {
   "cell_type": "markdown",
   "id": "dc801c13-c423-4b86-a291-a28da398d191",
   "metadata": {},
   "source": [
    "### 1)\n",
    "A process of running multiple threads simultaneously within a single process.To improve the performance of a program by using multiple CPUs or CPU cores."
   ]
  },
  {
   "cell_type": "markdown",
   "id": "2a099d53-8c8a-4e24-93e6-e1d5a0320bc8",
   "metadata": {},
   "source": [
    "### 2)\n",
    "Multiprocessing uses two or more CPUs to increase computing power, whereas multithreading uses a single process with multiple code segments to increase computing power. Multithreading focuses on generating computing threads from a single process, whereas multiprocessing increases computing power by adding CPUs."
   ]
  },
  {
   "cell_type": "markdown",
   "id": "c1ecc138-4d49-435d-9944-1e5b4c029d5d",
   "metadata": {},
   "source": [
    "### 3)"
   ]
  },
  {
   "cell_type": "code",
   "execution_count": 1,
   "id": "7c6b07f1-5678-4431-8353-a013482e9307",
   "metadata": {},
   "outputs": [
    {
     "name": "stdout",
     "output_type": "stream",
     "text": [
      "In worker function, running in process: Process-1\n",
      "Process has completed.\n"
     ]
    }
   ],
   "source": [
    "import multiprocessing\n",
    "\n",
    "def worker():\n",
    "    print(f'In worker function, running in process: {multiprocessing.current_process().name}')\n",
    "\n",
    "if __name__ == '__main__':\n",
    "    process = multiprocessing.Process(target=worker)\n",
    "    \n",
    "    process.start()\n",
    "    \n",
    "    process.join()\n",
    "    \n",
    "    print(\"Process has completed.\")\n"
   ]
  },
  {
   "cell_type": "markdown",
   "id": "13f12a29-b5c3-49e1-9cd1-0a3328102622",
   "metadata": {},
   "source": [
    "### 4) Multiprocessing pool is a inbuilt function used to run the parallel process together like adding processes keyword inside. It is useful because if we want to run all processes together it is helpful it will basically save memory of CPU, take less time to run"
   ]
  },
  {
   "cell_type": "markdown",
   "id": "55ea3c2c-3121-4297-b96b-76317bb256e4",
   "metadata": {},
   "source": [
    "### 5)"
   ]
  },
  {
   "cell_type": "code",
   "execution_count": 2,
   "id": "b8674429-02d9-4615-8d50-a4efd804de7c",
   "metadata": {},
   "outputs": [
    {
     "name": "stdout",
     "output_type": "stream",
     "text": [
      "[1, 4, 9, 16, 25]\n"
     ]
    }
   ],
   "source": [
    "import multiprocessing\n",
    "\n",
    "def square_number(n):\n",
    "    \"\"\"A simple function that squares a number.\"\"\"\n",
    "    return n * n\n",
    "\n",
    "if __name__ == '__main__':\n",
    "    numbers = [1, 2, 3, 4, 5]\n",
    "\n",
    "    with multiprocessing.Pool(processes=4) as pool:\n",
    "        results = pool.map(square_number, numbers)\n",
    "        print(results)\n"
   ]
  },
  {
   "cell_type": "code",
   "execution_count": null,
   "id": "63a267ae-0f45-474a-a8c7-4079e586fc29",
   "metadata": {},
   "outputs": [],
   "source": []
  }
 ],
 "metadata": {
  "kernelspec": {
   "display_name": "Python 3 (ipykernel)",
   "language": "python",
   "name": "python3"
  },
  "language_info": {
   "codemirror_mode": {
    "name": "ipython",
    "version": 3
   },
   "file_extension": ".py",
   "mimetype": "text/x-python",
   "name": "python",
   "nbconvert_exporter": "python",
   "pygments_lexer": "ipython3",
   "version": "3.10.8"
  }
 },
 "nbformat": 4,
 "nbformat_minor": 5
}
