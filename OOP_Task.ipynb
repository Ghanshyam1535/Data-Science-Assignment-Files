{
 "cells": [
  {
   "cell_type": "markdown",
   "id": "85f13083-1f7f-4c5e-b58c-135c7160eea2",
   "metadata": {},
   "source": [
    "### 1)"
   ]
  },
  {
   "cell_type": "code",
   "execution_count": 1,
   "id": "1e4eedca-fc23-4a6c-8a2c-0a339f83b979",
   "metadata": {},
   "outputs": [],
   "source": [
    "class vehicle:\n",
    "\n",
    "    def __init__(self, vehicle_name, speed, vehicle_avg):\n",
    "        self.name_of_vehicle = vehicle_name\n",
    "        self.max_speed = speed\n",
    "        self.average_of_vehicle = vehicle_avg"
   ]
  },
  {
   "cell_type": "markdown",
   "id": "87e462b6-f68f-4e0f-b780-6784a78df53d",
   "metadata": {},
   "source": [
    "### 2)"
   ]
  },
  {
   "cell_type": "code",
   "execution_count": 2,
   "id": "b0cf221c-2ca9-46cd-8b46-c180b1c702b1",
   "metadata": {},
   "outputs": [],
   "source": [
    "class car(vehicle):\n",
    "    def seating_capacity(self, capacity):\n",
    "        return f\"{self.name_of_vehicle} and it has  capacity of {capacity}\""
   ]
  },
  {
   "cell_type": "markdown",
   "id": "4d460cf8-daad-40fa-88c4-bdb274a9fac3",
   "metadata": {},
   "source": [
    "### 3) Multiple inheritance is nothing but, when we inherit 2 class in one class is known as multiple inheritance "
   ]
  },
  {
   "cell_type": "code",
   "execution_count": 3,
   "id": "3403e52b-95c5-4434-bc96-66800fdb6118",
   "metadata": {},
   "outputs": [
    {
     "name": "stdout",
     "output_type": "stream",
     "text": [
      "This is class 2\n",
      "you can also print class1 and class2 here\n"
     ]
    }
   ],
   "source": [
    "class class1:\n",
    "    def vehicle(self, name):\n",
    "        self.name = name\n",
    "\n",
    "class class2:\n",
    "    print(\"This is class 2\")\n",
    "    \n",
    "class class3(class1,class2):\n",
    "    print(\"you can also print class1 and class2 here\")\n",
    "    \n",
    "        "
   ]
  },
  {
   "cell_type": "markdown",
   "id": "5965388f-5215-4806-bffa-5c2ce46a4429",
   "metadata": {},
   "source": [
    "### 4) In Python, getters and setters are methods used to access and modify the private attributes of a class, respectively. They allow controlled access to the attributes of a class, enabling data encapsulation and maintaining the integrity of the data."
   ]
  },
  {
   "cell_type": "code",
   "execution_count": 6,
   "id": "65a19902-6476-4152-b177-42bcb2f4c95e",
   "metadata": {},
   "outputs": [
    {
     "name": "stdout",
     "output_type": "stream",
     "text": [
      "42\n"
     ]
    }
   ],
   "source": [
    "class myclass:\n",
    "    def __init__(self):\n",
    "        self._my_attribute = None  \n",
    "\n",
    "    def get_my_attribute(self):\n",
    "        return self._my_attribute\n",
    "\n",
    "    def set_my_attribute(self, value):\n",
    "        self._my_attribute = value   \n",
    "obj = myclass()\n",
    "obj.set_my_attribute(42)\n",
    "print(obj.get_my_attribute())  \n"
   ]
  },
  {
   "cell_type": "markdown",
   "id": "12bd5a5a-5966-4675-9c56-0b09423221a8",
   "metadata": {},
   "source": [
    "### 5) This allows the subclass to customize or extend the behavior of the method inherited from the superclass.Basically, wwe can update the class further doesn't matter it is superclass or not we can change the function return value."
   ]
  },
  {
   "cell_type": "code",
   "execution_count": 9,
   "id": "1698f7de-d52a-40da-9e32-c1d606284860",
   "metadata": {},
   "outputs": [
    {
     "name": "stdout",
     "output_type": "stream",
     "text": [
      "Generic animal sound\n",
      "Bark\n"
     ]
    }
   ],
   "source": [
    "class Animal:\n",
    "    def make_sound(self):\n",
    "        print(\"Generic animal sound\")\n",
    "\n",
    "\n",
    "class Dog(Animal):\n",
    "    def make_sound(self):\n",
    "        print(\"Bark\")\n",
    "\n",
    "\n",
    "animal = Animal()\n",
    "animal.make_sound()  \n",
    "    \n",
    "dog = Dog()\n",
    "dog.make_sound() "
   ]
  },
  {
   "cell_type": "code",
   "execution_count": null,
   "id": "666d750f-f87b-4bff-9c61-7ba3b6687c40",
   "metadata": {},
   "outputs": [],
   "source": []
  }
 ],
 "metadata": {
  "kernelspec": {
   "display_name": "Python 3 (ipykernel)",
   "language": "python",
   "name": "python3"
  },
  "language_info": {
   "codemirror_mode": {
    "name": "ipython",
    "version": 3
   },
   "file_extension": ".py",
   "mimetype": "text/x-python",
   "name": "python",
   "nbconvert_exporter": "python",
   "pygments_lexer": "ipython3",
   "version": "3.10.8"
  }
 },
 "nbformat": 4,
 "nbformat_minor": 5
}
