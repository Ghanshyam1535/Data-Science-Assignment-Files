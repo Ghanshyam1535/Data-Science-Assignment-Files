{
 "cells": [
  {
   "cell_type": "markdown",
   "id": "fa816160-5dee-4b12-9bfc-b22c69a4dac3",
   "metadata": {},
   "source": [
    "### 1)\n"
   ]
  },
  {
   "cell_type": "markdown",
   "id": "915eb311-6958-4c3e-8e7f-5550438b3ad3",
   "metadata": {},
   "source": [
    "A database is a structured collection of data that can be accessed, managed, and updated easily. It serves as a repository of information and data for processing various types of queries and transactions."
   ]
  },
  {
   "cell_type": "markdown",
   "id": "ee385a2c-b646-4243-b3d2-fd838a87a9cc",
   "metadata": {},
   "source": [
    "SQL databases, also known as relational databases, use a structured query language (SQL) for defining and manipulating data. This type of database is based on a schema that defines the structure of the data, including tables, fields, and the relationships between tables."
   ]
  },
  {
   "cell_type": "markdown",
   "id": "a0a5f015-865c-4660-aef0-94e38f0da991",
   "metadata": {},
   "source": [
    "NoSQL databases are designed to handle a wide variety of data models, including key-value, document, wide-column, and graph formats. Unlike SQL databases, NoSQL databases do not require a fixed schema, and they often provide more flexible data models that are easier to scale. "
   ]
  },
  {
   "cell_type": "markdown",
   "id": "2c1e34dd-8b87-433b-a59c-5919da7be4af",
   "metadata": {},
   "source": [
    "### 2)"
   ]
  },
  {
   "cell_type": "markdown",
   "id": "e2c561ba-02ea-44ee-80a7-2bb03b010c82",
   "metadata": {},
   "source": [
    "DDL stands for Data Definition Language, which is a subset of SQL (Structured Query Language) commands used to define and modify the database schema rather than the data itself. DDL commands are used for creating, altering, and deleting the structures of database objects such as tables, indexes, and users. "
   ]
  },
  {
   "cell_type": "markdown",
   "id": "379eb391-8978-4e9a-a90e-d1252eb04359",
   "metadata": {},
   "source": [
    "The CREATE command is used to create a new table, a view of a table, or other object in the database."
   ]
  },
  {
   "cell_type": "markdown",
   "id": "b69aa428-ff3f-425c-831e-d338c33c7e3d",
   "metadata": {},
   "source": [
    "The DROP command is used to delete an entire table, a view, or other objects in the database. This operation removes the schema and the data, and it cannot be undone.\n",
    "\n"
   ]
  },
  {
   "cell_type": "markdown",
   "id": "14aad5be-7d00-4d95-bb27-0417acbae30d",
   "metadata": {},
   "source": [
    "The ALTER command is used to modify the structure of an existing database object, such as adding, deleting, or modifying columns in a table."
   ]
  },
  {
   "cell_type": "markdown",
   "id": "ba100ec5-fde4-44c1-9a58-3fc7babe0c74",
   "metadata": {},
   "source": [
    "The TRUNCATE command is used to delete all the rows from a table without deleting the table itself. "
   ]
  },
  {
   "cell_type": "markdown",
   "id": "ca29d7b8-34c3-4c92-b574-d31140b733ef",
   "metadata": {},
   "source": [
    "### 3)"
   ]
  },
  {
   "cell_type": "markdown",
   "id": "22bbb38e-6f4c-415e-9ec0-907c92f67105",
   "metadata": {},
   "source": [
    "DML stands for Data Manipulation Language, which is a subset of SQL (Structured Query Language) commands used to insert, modify, delete, and query data in the database."
   ]
  },
  {
   "cell_type": "markdown",
   "id": "0a90a5ad-deef-4822-8820-c18cff871b2a",
   "metadata": {},
   "source": [
    "##### INSERT is used for adding new data to tables, enabling the database to grow and include more information over time.\n",
    "##### UPDATE allows for the modification of existing data, ensuring that the database remains accurate and up-to-date.\n",
    "##### DELETE is used to remove data that is no longer needed or relevant, helping maintain the integrity and manageability of the database."
   ]
  },
  {
   "cell_type": "markdown",
   "id": "dabdceb2-b06c-4887-a910-5b2864714eeb",
   "metadata": {},
   "source": [
    "### 4)"
   ]
  },
  {
   "cell_type": "markdown",
   "id": "bcf1a370-6074-4b88-930b-529ab63c1f07",
   "metadata": {},
   "source": [
    "DQL stands for Data Query Language, which is a subset of SQL (Structured Query Language) commands used specifically for querying (i.e., retrieving) data from a database."
   ]
  },
  {
   "cell_type": "markdown",
   "id": "4be40a2b-88a9-4e07-adfe-669fbd6f904b",
   "metadata": {},
   "source": [
    "The SELECT command is used to retrieve data from one or more tables in the database. It can be used to select specific columns of data, rows that match a particular condition, or even complex datasets involving multiple tables and conditions."
   ]
  },
  {
   "cell_type": "markdown",
   "id": "ae7be5fc-b184-49ca-b219-c56d86352c50",
   "metadata": {},
   "source": [
    "### 5)"
   ]
  },
  {
   "cell_type": "markdown",
   "id": "23b2cc25-8f4d-49f4-a55e-197ad5db3d0b",
   "metadata": {},
   "source": [
    "A Primary Key is a column (or a set of columns) in a table that uniquely identifies each row in that table."
   ]
  },
  {
   "cell_type": "markdown",
   "id": "98094623-3db5-454a-86bc-5d56db16b381",
   "metadata": {},
   "source": [
    "A Foreign Key is a column (or a set of columns) in one table that links to the primary key or a unique key in another table."
   ]
  },
  {
   "cell_type": "markdown",
   "id": "d40efc5e-37db-4ff1-964e-2227ef802185",
   "metadata": {},
   "source": [
    "### 6)"
   ]
  },
  {
   "cell_type": "code",
   "execution_count": 2,
   "id": "f8855367-8e3d-4e04-b87f-42ab82753fa1",
   "metadata": {},
   "outputs": [
    {
     "ename": "ModuleNotFoundError",
     "evalue": "No module named 'mysql'",
     "output_type": "error",
     "traceback": [
      "\u001b[0;31m---------------------------------------------------------------------------\u001b[0m",
      "\u001b[0;31mModuleNotFoundError\u001b[0m                       Traceback (most recent call last)",
      "Cell \u001b[0;32mIn[2], line 1\u001b[0m\n\u001b[0;32m----> 1\u001b[0m \u001b[38;5;28;01mimport\u001b[39;00m \u001b[38;5;21;01mmysql\u001b[39;00m\u001b[38;5;21;01m.\u001b[39;00m\u001b[38;5;21;01mconnector\u001b[39;00m\n\u001b[1;32m      3\u001b[0m connection \u001b[38;5;241m=\u001b[39m mysql\u001b[38;5;241m.\u001b[39mconnector\u001b[38;5;241m.\u001b[39mconnect(\n\u001b[1;32m      4\u001b[0m   host\u001b[38;5;241m=\u001b[39m\u001b[38;5;124m\"\u001b[39m\u001b[38;5;124mlocal_host\u001b[39m\u001b[38;5;124m\"\u001b[39m,        \n\u001b[1;32m      5\u001b[0m   user\u001b[38;5;241m=\u001b[39m\u001b[38;5;124m\"\u001b[39m\u001b[38;5;124mabc\u001b[39m\u001b[38;5;124m\"\u001b[39m,\n\u001b[1;32m      6\u001b[0m   password\u001b[38;5;241m=\u001b[39m\u001b[38;5;124m\"\u001b[39m\u001b[38;5;124mpassword\u001b[39m\u001b[38;5;124m\"\u001b[39m,\n\u001b[1;32m      7\u001b[0m   database\u001b[38;5;241m=\u001b[39m\u001b[38;5;124m\"\u001b[39m\u001b[38;5;124myour_database_name\u001b[39m\u001b[38;5;124m\"\u001b[39m\n\u001b[1;32m      8\u001b[0m )\n",
      "\u001b[0;31mModuleNotFoundError\u001b[0m: No module named 'mysql'"
     ]
    }
   ],
   "source": [
    "import mysql.connector\n",
    "\n",
    "connection = mysql.connector.connect(\n",
    "  host=\"local_host\",        \n",
    "  user=\"abc\",\n",
    "  password=\"password\",\n",
    "  database=\"your_database_name\"\n",
    ")\n"
   ]
  },
  {
   "cell_type": "markdown",
   "id": "a47b93e0-0e0b-4b7e-9e47-cf71834cf3c6",
   "metadata": {},
   "source": [
    "The cursor() method is used to create a cursor object, which allows you to interact with the database using SQL queries. "
   ]
  },
  {
   "cell_type": "markdown",
   "id": "1e06438e-2bf8-47db-838f-8adf3aba29dd",
   "metadata": {},
   "source": [
    "The execute() method is used with a cursor object to execute a single SQL statement. It takes a SQL query as a string and sends that query to the database to be executed."
   ]
  },
  {
   "cell_type": "code",
   "execution_count": null,
   "id": "dc9dea85-ab2d-4ce3-9e79-9a2eaf60030f",
   "metadata": {},
   "outputs": [],
   "source": []
  }
 ],
 "metadata": {
  "kernelspec": {
   "display_name": "Python 3 (ipykernel)",
   "language": "python",
   "name": "python3"
  },
  "language_info": {
   "codemirror_mode": {
    "name": "ipython",
    "version": 3
   },
   "file_extension": ".py",
   "mimetype": "text/x-python",
   "name": "python",
   "nbconvert_exporter": "python",
   "pygments_lexer": "ipython3",
   "version": "3.10.8"
  }
 },
 "nbformat": 4,
 "nbformat_minor": 5
}
