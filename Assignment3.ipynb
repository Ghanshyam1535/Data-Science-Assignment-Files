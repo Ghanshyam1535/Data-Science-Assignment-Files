{
 "cells": [
  {
   "cell_type": "markdown",
   "id": "57ef7482-7623-4396-8742-1f441cd2367c",
   "metadata": {},
   "source": [
    "### 1)"
   ]
  },
  {
   "cell_type": "code",
   "execution_count": 1,
   "id": "86d706a6-33bd-415c-8b5e-875c4f99d106",
   "metadata": {},
   "outputs": [
    {
     "name": "stdout",
     "output_type": "stream",
     "text": [
      "[('Virat Kohli', 24936), ('Jack Kallis', 25534), ('Ricky Ponting', 27483), ('Sachin Tendulkar', 34357)]\n"
     ]
    }
   ],
   "source": [
    "l1 = [('Sachin Tendulkar', 34357), ('Ricky Ponting', 27483), ('Jack Kallis', 25534), ('Virat Kohli', 24936)]\n",
    "\n",
    "s = sorted(l1, key=lambda x: x[1])\n",
    "\n",
    "print(s)\n"
   ]
  },
  {
   "cell_type": "markdown",
   "id": "9bafeaad-2c1b-4c10-b97b-4ba7ef5a6218",
   "metadata": {},
   "source": [
    "### 2)"
   ]
  },
  {
   "cell_type": "code",
   "execution_count": 2,
   "id": "96662040-b600-4611-994d-13c284ee01ed",
   "metadata": {},
   "outputs": [
    {
     "name": "stdout",
     "output_type": "stream",
     "text": [
      "[1, 4, 9, 16, 25, 36, 49, 64, 81, 100]\n"
     ]
    }
   ],
   "source": [
    "l2 = [1, 2, 3, 4, 5, 6, 7, 8, 9, 10]\n",
    "a = list(map(lambda x: x**2, l2))\n",
    "print(a)"
   ]
  },
  {
   "cell_type": "markdown",
   "id": "d8c5a2bd-b144-472c-ad5e-9081f8cf15f6",
   "metadata": {},
   "source": [
    "### 3)"
   ]
  },
  {
   "cell_type": "code",
   "execution_count": 3,
   "id": "da60edc0-ac9b-421b-bdbc-db69e2a0fb9b",
   "metadata": {},
   "outputs": [
    {
     "name": "stdout",
     "output_type": "stream",
     "text": [
      "('1', '2', '3', '4', '5', '6', '7', '8', '9', '10')\n"
     ]
    }
   ],
   "source": [
    "l3 = [1, 2, 3, 4, 5, 6, 7, 8, 9, 10]\n",
    "b = tuple(map(lambda x: str(x), l3))\n",
    "print(b)"
   ]
  },
  {
   "cell_type": "markdown",
   "id": "249be805-9c3d-47b7-ae1c-31c5491fef3b",
   "metadata": {},
   "source": [
    "### 4)"
   ]
  },
  {
   "cell_type": "code",
   "execution_count": 5,
   "id": "b474c088-c4ab-4fc1-8707-5045cf369586",
   "metadata": {},
   "outputs": [
    {
     "name": "stdout",
     "output_type": "stream",
     "text": [
      "15511210043330985984000000\n"
     ]
    }
   ],
   "source": [
    "from functools import reduce\n",
    "l4 = list(range(1,26))\n",
    "c = reduce(lambda x,y:x*y, l4)\n",
    "print(c)"
   ]
  },
  {
   "cell_type": "markdown",
   "id": "e9b72ad4-59d4-40c1-ae0a-72e21f36b157",
   "metadata": {},
   "source": [
    "### 5)"
   ]
  },
  {
   "cell_type": "code",
   "execution_count": 10,
   "id": "c1dafc47-d478-472f-a15a-5e4023f2cb2f",
   "metadata": {},
   "outputs": [
    {
     "name": "stdout",
     "output_type": "stream",
     "text": [
      "[6, 60, 90, 120]\n"
     ]
    }
   ],
   "source": [
    "l5 = [2, 3, 6, 9, 27, 60, 90, 120, 55, 46]\n",
    "c = list(filter(lambda x: x%2 == 0 and x%3 == 0, l5))\n",
    "print(c)"
   ]
  },
  {
   "cell_type": "markdown",
   "id": "8184e8ee-f8c6-4d3c-96c1-0f8ff6e75b61",
   "metadata": {},
   "source": [
    "### 6)"
   ]
  },
  {
   "cell_type": "code",
   "execution_count": null,
   "id": "377c4774-112e-40ba-9ad2-1e993c3d7bc9",
   "metadata": {},
   "outputs": [],
   "source": [
    "l6 = ['python', 'php', 'aba', 'radar', 'level']\n",
    "d = list(filter(lambda x: x[0] == x[::-1], l6))\n",
    "print("
   ]
  }
 ],
 "metadata": {
  "kernelspec": {
   "display_name": "Python 3 (ipykernel)",
   "language": "python",
   "name": "python3"
  },
  "language_info": {
   "codemirror_mode": {
    "name": "ipython",
    "version": 3
   },
   "file_extension": ".py",
   "mimetype": "text/x-python",
   "name": "python",
   "nbconvert_exporter": "python",
   "pygments_lexer": "ipython3",
   "version": "3.10.8"
  }
 },
 "nbformat": 4,
 "nbformat_minor": 5
}
