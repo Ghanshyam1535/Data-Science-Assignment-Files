{
 "cells": [
  {
   "cell_type": "markdown",
   "id": "f0094b0d-2456-4b35-9eba-cdc4270eaa03",
   "metadata": {},
   "source": [
    "### 1)"
   ]
  },
  {
   "cell_type": "markdown",
   "id": "c40f4520-6e41-4a8b-85eb-ee4ca41fd5fe",
   "metadata": {},
   "source": [
    "\n",
    "Flask is a lightweight web framework for Python that is designed to make getting started quick and easy, with the ability to scale up to complex applications. It's often referred to as a micro-framework because it keeps the core simple but allows for extensions to add additional functionality as needed."
   ]
  },
  {
   "cell_type": "markdown",
   "id": "52b0bf9f-0a1b-41b7-bd83-9bce060562a2",
   "metadata": {},
   "source": [
    "### Advantage\n",
    "#### Simplicity\n",
    "#### Flexibility\n",
    "#### Modularity\n",
    "#### Community and Documentation"
   ]
  },
  {
   "cell_type": "markdown",
   "id": "33542216-bed7-4369-9ddb-c42410e50309",
   "metadata": {},
   "source": [
    "### 2)"
   ]
  },
  {
   "cell_type": "code",
   "execution_count": null,
   "id": "63f4b74e-b318-4e0a-bbc5-400a524afd69",
   "metadata": {},
   "outputs": [],
   "source": [
    "from flask import Flask\n",
    "\n",
    "app = Flask(__name__)\n",
    "\n",
    "@app.route(\"/\")\n",
    "def hello_world():\n",
    "    return \"Hello, World!\"\n",
    "\n",
    "if __name__==\"__main__\":\n",
    "    app.run(host=\"0.0.0.0\")"
   ]
  },
  {
   "cell_type": "markdown",
   "id": "e429a4bb-4045-4520-b4c0-b289fa552287",
   "metadata": {},
   "source": [
    "### 3)\n"
   ]
  },
  {
   "cell_type": "markdown",
   "id": "9237a66b-200e-4112-a0d2-bc11f8079508",
   "metadata": {},
   "source": [
    "In Flask, app routing refers to the mechanism of mapping URLs (Uniform Resource Locators) to view functions in your application."
   ]
  },
  {
   "cell_type": "markdown",
   "id": "e562cfc3-555d-417e-93a2-4814171b2358",
   "metadata": {},
   "source": [
    "When a user makes a request to a specific URL, Flask's routing system determines which view function should handle the request based on the URL pattern defined in your application.\n",
    "\n",
    "We use app routes primarily to define the endpoints of our web application. These endpoints are URLs that users can visit to interact with our application."
   ]
  },
  {
   "cell_type": "markdown",
   "id": "ad32f312-63cc-4abf-a48f-7c2d1cd4c12a",
   "metadata": {},
   "source": [
    "### 4)"
   ]
  },
  {
   "cell_type": "code",
   "execution_count": null,
   "id": "7415cdd3-d739-4b0c-8b32-9883e83482be",
   "metadata": {},
   "outputs": [],
   "source": [
    "from flask import Flask\n",
    "\n",
    "app = Flask(__name__)\n",
    "\n",
    "@app.route('/welcome')\n",
    "def welcome():\n",
    "    return 'Welcome to ABC Corporation'\n",
    "\n",
    "@app.route('/')\n",
    "def company_details():\n",
    "    return '''Company Name: ABC Corporation \n",
    "              Location: India \n",
    "              Contact Detail: 999-999-9999'''\n",
    "\n",
    "if __name__ == '__main__':\n",
    "    app.run(host=\"0.0.0.0\")"
   ]
  },
  {
   "cell_type": "markdown",
   "id": "dcf9126a-29dd-40dd-809f-190e449795d0",
   "metadata": {},
   "source": [
    "### 5)"
   ]
  },
  {
   "cell_type": "markdown",
   "id": "2d884ed6-1c07-4110-8a10-c807bf2fbea1",
   "metadata": {},
   "source": [
    "In Flask, the url_for() function is used for URL building."
   ]
  },
  {
   "cell_type": "code",
   "execution_count": 1,
   "id": "6b70602d-35e3-4e90-9ffa-08f4ddd5ce34",
   "metadata": {},
   "outputs": [
    {
     "ename": "ModuleNotFoundError",
     "evalue": "No module named 'flask'",
     "output_type": "error",
     "traceback": [
      "\u001b[0;31m---------------------------------------------------------------------------\u001b[0m",
      "\u001b[0;31mModuleNotFoundError\u001b[0m                       Traceback (most recent call last)",
      "Cell \u001b[0;32mIn[1], line 1\u001b[0m\n\u001b[0;32m----> 1\u001b[0m \u001b[38;5;28;01mfrom\u001b[39;00m \u001b[38;5;21;01mflask\u001b[39;00m \u001b[38;5;28;01mimport\u001b[39;00m Flask, url_for\n\u001b[1;32m      3\u001b[0m app \u001b[38;5;241m=\u001b[39m Flask(\u001b[38;5;18m__name__\u001b[39m)\n\u001b[1;32m      5\u001b[0m \u001b[38;5;66;03m# Define routes with endpoint names\u001b[39;00m\n",
      "\u001b[0;31mModuleNotFoundError\u001b[0m: No module named 'flask'"
     ]
    }
   ],
   "source": [
    "from flask import Flask, url_for\n",
    "\n",
    "app = Flask(__name__)\n",
    "\n",
    "# Define routes with endpoint names\n",
    "@app.route('/')\n",
    "def index():\n",
    "    return 'Welcome to the Home Page!'\n",
    "\n",
    "@app.route('/about')\n",
    "def about():\n",
    "    return 'This is the About Page.'\n",
    "\n",
    "@app.route('/contact')\n",
    "def contact():\n",
    "    return 'Contact us at: example@example.com'\n",
    "\n",
    "if __name__ == '__main__':\n",
    "    with app.test_request_context():\n",
    "        # Generate URLs using url_for() function\n",
    "        print(\"URL for index():\", url_for('index'))\n",
    "        print(\"URL for about():\", url_for('about'))\n",
    "        print(\"URL for contact():\", url_for('contact'))\n"
   ]
  },
  {
   "cell_type": "code",
   "execution_count": null,
   "id": "130e6ee6-712b-45aa-8375-b63a68a1c7be",
   "metadata": {},
   "outputs": [],
   "source": []
  }
 ],
 "metadata": {
  "kernelspec": {
   "display_name": "Python 3 (ipykernel)",
   "language": "python",
   "name": "python3"
  },
  "language_info": {
   "codemirror_mode": {
    "name": "ipython",
    "version": 3
   },
   "file_extension": ".py",
   "mimetype": "text/x-python",
   "name": "python",
   "nbconvert_exporter": "python",
   "pygments_lexer": "ipython3",
   "version": "3.10.8"
  }
 },
 "nbformat": 4,
 "nbformat_minor": 5
}
