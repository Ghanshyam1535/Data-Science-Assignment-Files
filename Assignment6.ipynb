{
 "cells": [
  {
   "cell_type": "markdown",
   "id": "3831f085-5f6c-431b-845e-c439defff9cc",
   "metadata": {},
   "source": [
    "### 1)"
   ]
  },
  {
   "cell_type": "code",
   "execution_count": 10,
   "id": "d479a35a-a232-4c91-8481-371dde487197",
   "metadata": {},
   "outputs": [
    {
     "name": "stdin",
     "output_type": "stream",
     "text": [
      "Enter the percentage:  75\n"
     ]
    },
    {
     "name": "stdout",
     "output_type": "stream",
     "text": [
      "The grade for 75.0% is: C\n"
     ]
    }
   ],
   "source": [
    "def grades(percent):\n",
    "    if percent > 90:\n",
    "        return 'A'\n",
    "    elif 80 <= percent <= 90:\n",
    "        return 'B'\n",
    "    elif 60 <= percent < 80:\n",
    "        return 'C'\n",
    "    else:\n",
    "        return 'D'\n",
    "user = float(input(\"Enter the percentage: \"))\n",
    "grade = grades(user)\n",
    "print(f\"The grade for {user}% is: {grade}\")"
   ]
  },
  {
   "cell_type": "markdown",
   "id": "be47d78e-6dc8-4208-b352-c5e17b1aba4b",
   "metadata": {},
   "source": [
    "### 2)"
   ]
  },
  {
   "cell_type": "code",
   "execution_count": 12,
   "id": "78632198-4a57-463c-8d92-edd852efb7a3",
   "metadata": {},
   "outputs": [
    {
     "name": "stdin",
     "output_type": "stream",
     "text": [
      "Enter the Cost Price:  4000\n"
     ]
    },
    {
     "name": "stdout",
     "output_type": "stream",
     "text": [
      "The Tax for 4000.0$ is: 5%\n"
     ]
    }
   ],
   "source": [
    "def cost_price(price):\n",
    "    if price > 100000:\n",
    "        return '15%'\n",
    "    elif 50000 < price <= 100000:\n",
    "        return '10%'\n",
    "    else:\n",
    "        return '5%'\n",
    "user = float(input(\"Enter the Cost Price: \"))\n",
    "tax = cost_price(user)\n",
    "print(f\"The Tax for {user}$ is: {tax}\")"
   ]
  },
  {
   "cell_type": "markdown",
   "id": "c359b4a0-8290-4a56-bfd9-a4fe72bc17e6",
   "metadata": {},
   "source": [
    "### 3)"
   ]
  },
  {
   "cell_type": "code",
   "execution_count": 14,
   "id": "b0d96d34-f14b-4315-adac-249d783d0cad",
   "metadata": {},
   "outputs": [
    {
     "name": "stdin",
     "output_type": "stream",
     "text": [
      "Enter the name of the city:  delhi\n"
     ]
    },
    {
     "name": "stdout",
     "output_type": "stream",
     "text": [
      "Red Fort is situated in delhi\n"
     ]
    }
   ],
   "source": [
    "def monument(city):\n",
    "    if city == 'Delhi' or city == 'delhi':\n",
    "        return 'Red Fort'\n",
    "    elif city == 'Agra' or city == 'agra':\n",
    "        return 'Taj Mahal'\n",
    "    elif city == 'Jaipur' or city == 'jaipur':\n",
    "        return 'Jal Mahal'\n",
    "    else:\n",
    "        return 'City is not listed type delhi,agra or jaipur'\n",
    "user = str(input(\"Enter the name of the city: \"))\n",
    "monm = monument(user)\n",
    "print(f\"{monm} is situated in {user}\")"
   ]
  },
  {
   "cell_type": "markdown",
   "id": "9e9c31c3-1981-4132-b8f9-00b7996429f9",
   "metadata": {},
   "source": [
    "### 4)"
   ]
  },
  {
   "cell_type": "code",
   "execution_count": 18,
   "id": "63032fd2-37d2-4352-8178-a5caa2019dc7",
   "metadata": {},
   "outputs": [
    {
     "data": {
      "text/plain": [
       "7"
      ]
     },
     "execution_count": 18,
     "metadata": {},
     "output_type": "execute_result"
    }
   ],
   "source": [
    "def counter(number):\n",
    "    count = 0\n",
    "    while number > 10:\n",
    "        number /= 3\n",
    "        count += 1\n",
    "    return count\n",
    "number = 10000\n",
    "division = counter(number)\n",
    "division"
   ]
  },
  {
   "cell_type": "markdown",
   "id": "4d70513a-a22c-49e5-bc1d-f0d5a218897c",
   "metadata": {},
   "source": [
    "### 5)"
   ]
  },
  {
   "cell_type": "markdown",
   "id": "6949f1cd-4c41-42ef-a4cb-a9a260812285",
   "metadata": {},
   "source": [
    "### The while loop in Python is used for repeated execution as long as an expression is true. You use it when you do not know beforehand the number of times you will need to execute the loop, unlike a for loop where you know the range/set of values to iterate"
   ]
  },
  {
   "cell_type": "markdown",
   "id": "217710bd-409f-46a6-a02b-7218f579093d",
   "metadata": {},
   "source": [
    "### ex: An example of while loop usage could be reading a file until there are no more lines to read."
   ]
  },
  {
   "cell_type": "markdown",
   "id": "39e30dbb-062b-48a1-8351-1153a1d383fa",
   "metadata": {},
   "source": [
    "### 6)"
   ]
  },
  {
   "cell_type": "code",
   "execution_count": 20,
   "id": "5c4b2619-3817-47a6-a684-9dafdda90589",
   "metadata": {},
   "outputs": [
    {
     "name": "stdout",
     "output_type": "stream",
     "text": [
      "*\n",
      "**\n",
      "***\n"
     ]
    }
   ],
   "source": [
    "size = 3\n",
    "i = 1\n",
    "while i <= size:\n",
    "    j = 1\n",
    "    while j <= i:\n",
    "        print(\"*\", end='')\n",
    "        j += 1\n",
    "    print()\n",
    "    i += 1"
   ]
  },
  {
   "cell_type": "code",
   "execution_count": 21,
   "id": "fddaa185-e370-4c29-aec1-532cf6792f6e",
   "metadata": {},
   "outputs": [
    {
     "name": "stdout",
     "output_type": "stream",
     "text": [
      "***\n",
      "**\n",
      "*\n"
     ]
    }
   ],
   "source": [
    "i = size\n",
    "while i > 0:\n",
    "    j = i\n",
    "    while j > 0:\n",
    "        print(\"*\", end='')\n",
    "        j -= 1\n",
    "    print()\n",
    "    i -= 1\n",
    "    "
   ]
  },
  {
   "cell_type": "code",
   "execution_count": 22,
   "id": "20f3e076-e297-4c69-8a2e-d5a77f3cb5db",
   "metadata": {},
   "outputs": [
    {
     "name": "stdout",
     "output_type": "stream",
     "text": [
      "***\n",
      "***\n",
      "***\n"
     ]
    }
   ],
   "source": [
    "i = 1\n",
    "while i <= size:\n",
    "    j = 1\n",
    "    while j <= size:\n",
    "        print(\"*\", end='')\n",
    "        j += 1\n",
    "    print()\n",
    "    i += 1\n",
    "    "
   ]
  },
  {
   "cell_type": "markdown",
   "id": "36a71f2a-5664-46a5-a749-8b5d914f844e",
   "metadata": {},
   "source": [
    "### 7) and 8)"
   ]
  },
  {
   "cell_type": "code",
   "execution_count": 25,
   "id": "07054385-461e-4c85-8ff8-8dea81da4d25",
   "metadata": {},
   "outputs": [
    {
     "name": "stdout",
     "output_type": "stream",
     "text": [
      "10\n",
      "9\n",
      "8\n",
      "7\n",
      "6\n",
      "5\n",
      "4\n",
      "3\n",
      "2\n",
      "1\n"
     ]
    }
   ],
   "source": [
    "number = 10\n",
    "while number > 0:\n",
    "    print(list(number))\n",
    "    number -= 1\n",
    "    "
   ]
  },
  {
   "cell_type": "code",
   "execution_count": null,
   "id": "7f36e319-04b9-401e-a92e-49237602deeb",
   "metadata": {},
   "outputs": [],
   "source": []
  }
 ],
 "metadata": {
  "kernelspec": {
   "display_name": "Python 3 (ipykernel)",
   "language": "python",
   "name": "python3"
  },
  "language_info": {
   "codemirror_mode": {
    "name": "ipython",
    "version": 3
   },
   "file_extension": ".py",
   "mimetype": "text/x-python",
   "name": "python",
   "nbconvert_exporter": "python",
   "pygments_lexer": "ipython3",
   "version": "3.10.8"
  }
 },
 "nbformat": 4,
 "nbformat_minor": 5
}
