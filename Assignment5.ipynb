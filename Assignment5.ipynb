{
 "cells": [
  {
   "cell_type": "code",
   "execution_count": null,
   "id": "a7b4f2e8-deec-4026-becb-3e55cb970c58",
   "metadata": {},
   "outputs": [],
   "source": [
    "### 1) Guido van Rossum\n",
    "### 2) Python support procedural, object-oriented, and functional programming.\n",
    "### 3) Yes, Python is case sensitive when dealing with identifiers.\n",
    "### 4) The correct extension is .py.\n",
    "### 5) Python is an interpreted language\n",
    "### 6) Functions (def), classes (class), and control structures like if, for, while.\n",
    "### 7) The # character is used for single-line comments.\n",
    "### 8) sys.version or platform.python_version().\n",
    "### 9) Lambda.\n",
    "### 10) Preferred Installer Program\n",
    "### 11) print(), len(), range(), input(), str(), int(), type().\n",
    "### 12) In Python, identifiers can be of any length.\n",
    "### 13) Python is readable, simple, versatile, with a wide range of libraries and a large community.\n",
    "### 14) Python has an automatic garbage collector for memory management and uses a private heap space for storing objects.\n",
    "### 15) Download the Python installer from the official website, run it, and check the option to add Python to PATH during the installation.\n",
    "### 16) Yes, indentation is required in Python to indicate blocks of code."
   ]
  },
  {
   "cell_type": "code",
   "execution_count": null,
   "id": "0c760f8d-4657-4f44-b3ca-a8630617c339",
   "metadata": {},
   "outputs": [],
   "source": []
  }
 ],
 "metadata": {
  "kernelspec": {
   "display_name": "Python 3 (ipykernel)",
   "language": "python",
   "name": "python3"
  },
  "language_info": {
   "codemirror_mode": {
    "name": "ipython",
    "version": 3
   },
   "file_extension": ".py",
   "mimetype": "text/x-python",
   "name": "python",
   "nbconvert_exporter": "python",
   "pygments_lexer": "ipython3",
   "version": "3.10.8"
  }
 },
 "nbformat": 4,
 "nbformat_minor": 5
}
