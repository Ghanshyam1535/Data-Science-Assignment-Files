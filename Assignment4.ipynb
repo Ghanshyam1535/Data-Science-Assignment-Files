{
 "cells": [
  {
   "cell_type": "markdown",
   "id": "8f99ac48-cb67-4657-a3f4-dde657e7a24c",
   "metadata": {
    "jp-MarkdownHeadingCollapsed": true,
    "tags": []
   },
   "source": [
    "### 1)\n",
    "###   A class is a blueprint or template for creating objects.It is a set of function that created objects must have\n",
    "###   OOP's stands for object oriented programming, it has classes and objects that help the code to reuse any where in the same file, basicaally it helps in maintaining simplicity of code and easily readable to everyone"
   ]
  },
  {
   "cell_type": "markdown",
   "id": "f5c36505-9013-464b-8a74-720613def0e5",
   "metadata": {},
   "source": [
    "### 2) \n",
    "### Encapsulation, Abstraction, Polymerphism and inheritance"
   ]
  },
  {
   "cell_type": "markdown",
   "id": "2c02c3bf-faf0-444b-8749-2924eb5cf84a",
   "metadata": {},
   "source": [
    "### 3) \n",
    "### __init__() function is basically a constructor of the function, like it is to initialize the newly created object's state by assigning initial values to the object's attributes, we have to give element to self or anything which we want to give, we have to assign it to someone"
   ]
  },
  {
   "cell_type": "markdown",
   "id": "e4119451-3064-42a8-9a1a-920d9432a3ff",
   "metadata": {},
   "source": [
    "### 4) \n",
    "###  In Object-Oriented Programming, particularly in Python, the keyword self is used in instance methods to refer to the instance on which the method is being called."
   ]
  },
  {
   "cell_type": "code",
   "execution_count": null,
   "id": "8b7dcc7d-e3e4-41d0-ad1c-a458c335c782",
   "metadata": {},
   "outputs": [],
   "source": [
    "### 5)\n",
    "###   In simple words we can take the content from the another class and it can be reuse in different class.The main benefits of inheritance include code reusability\n",
    "###   Single,"
   ]
  }
 ],
 "metadata": {
  "kernelspec": {
   "display_name": "Python 3 (ipykernel)",
   "language": "python",
   "name": "python3"
  },
  "language_info": {
   "codemirror_mode": {
    "name": "ipython",
    "version": 3
   },
   "file_extension": ".py",
   "mimetype": "text/x-python",
   "name": "python",
   "nbconvert_exporter": "python",
   "pygments_lexer": "ipython3",
   "version": "3.10.8"
  }
 },
 "nbformat": 4,
 "nbformat_minor": 5
}
