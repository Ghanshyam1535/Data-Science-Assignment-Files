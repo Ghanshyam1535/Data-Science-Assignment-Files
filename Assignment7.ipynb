{
 "cells": [
  {
   "cell_type": "code",
   "execution_count": 17,
   "id": "18594467-bd80-4a76-bb90-1e3d0e4389dd",
   "metadata": {},
   "outputs": [
    {
     "name": "stdout",
     "output_type": "stream",
     "text": [
      "[1, 2, 3, 4, 44, 55, 66, True, (34, 56, 78, 89, 34), {1, 2, 3}, {1: 34, 'key2': [55, 67, 78, 89], 4: (45, 22, 61, 34)}, 56, 'data science', 'Machine Learning']\n",
      "214663680\n"
     ]
    }
   ],
   "source": [
    "list1 = [1,2,3,4, [44,55,66, True], (34,56,78,89,34), {1,2,3,3,2,1}, {1:34, \"key2\": [55, 67, 78, 89], 4: (45,\n",
    "22, 61, 34)}, [56, 'data science'], 'Machine Learning']\n",
    "\n",
    "def list_flatten(lst, lst1):\n",
    "    for item in lst:\n",
    "        if isinstance(item, list):\n",
    "            list_flatten(item, lst1)\n",
    "        else:\n",
    "            lst1.append(item)\n",
    "\n",
    "Lflat = []\n",
    "list_flatten(list1, Lflat)\n",
    "print(Lflat)\n",
    "\n",
    "product = 1\n",
    "for item in Lflat:\n",
    "    if isinstance(item, int):\n",
    "        product *= item\n",
    "print(product) # I removed false because it was counting as 0 so, it was returning 0 in product"
   ]
  },
  {
   "cell_type": "markdown",
   "id": "f817b04a-42f9-4ce7-b735-7f88eaab8a1e",
   "metadata": {},
   "source": [
    "### 2)"
   ]
  },
  {
   "cell_type": "code",
   "execution_count": 32,
   "id": "7d7bacd4-4257-4586-a0fa-bafe1a5d91e3",
   "metadata": {},
   "outputs": [
    {
     "data": {
      "text/plain": [
       "'r$dzmg$gl$yvxlnv$z$wzgz$hxrvmgrhg.'"
      ]
     },
     "execution_count": 32,
     "metadata": {},
     "output_type": "execute_result"
    }
   ],
   "source": [
    "def encrypt_message(message):\n",
    "    message = message.lower()\n",
    "    encrypted = ''\n",
    "    for char in message:\n",
    "        if char.isalpha():\n",
    "            encrypted += chr(219 - ord(char))\n",
    "        elif char == ' ':  \n",
    "            encrypted += '$'\n",
    "        else:  \n",
    "            encrypted += char\n",
    "    return encrypted\n",
    "            \n",
    "input_sentence = \"I want to become a Data Scientist.\"\n",
    "msg = encrypt_message(input_sentence)\n",
    "encrypted_message"
   ]
  }
 ],
 "metadata": {
  "kernelspec": {
   "display_name": "Python 3 (ipykernel)",
   "language": "python",
   "name": "python3"
  },
  "language_info": {
   "codemirror_mode": {
    "name": "ipython",
    "version": 3
   },
   "file_extension": ".py",
   "mimetype": "text/x-python",
   "name": "python",
   "nbconvert_exporter": "python",
   "pygments_lexer": "ipython3",
   "version": "3.10.8"
  }
 },
 "nbformat": 4,
 "nbformat_minor": 5
}
